{
 "cells": [
  {
   "cell_type": "code",
   "execution_count": 1,
   "id": "339596c4",
   "metadata": {
    "ExecuteTime": {
     "end_time": "2024-10-26T07:28:37.936941Z",
     "start_time": "2024-10-26T07:28:36.913627Z"
    }
   },
   "outputs": [],
   "source": [
    "import pandas as pd\n",
    "import matplotlib.pyplot as plt\n",
    "import seaborn as sns\n",
    "import numpy as np"
   ]
  },
  {
   "cell_type": "code",
   "execution_count": 2,
   "id": "7f2b87bb",
   "metadata": {
    "ExecuteTime": {
     "end_time": "2024-10-26T07:28:37.949876Z",
     "start_time": "2024-10-26T07:28:37.940617Z"
    }
   },
   "outputs": [],
   "source": [
    "df = pd.read_csv('../../dataset/Heart_Disease_Prediction.csv')"
   ]
  },
  {
   "cell_type": "code",
   "execution_count": 3,
   "id": "79a2ce88",
   "metadata": {
    "ExecuteTime": {
     "end_time": "2024-10-26T07:28:38.631110Z",
     "start_time": "2024-10-26T07:28:38.589443Z"
    }
   },
   "outputs": [
    {
     "data": {
      "text/html": [
       "<div>\n",
       "<style scoped>\n",
       "    .dataframe tbody tr th:only-of-type {\n",
       "        vertical-align: middle;\n",
       "    }\n",
       "\n",
       "    .dataframe tbody tr th {\n",
       "        vertical-align: top;\n",
       "    }\n",
       "\n",
       "    .dataframe thead th {\n",
       "        text-align: right;\n",
       "    }\n",
       "</style>\n",
       "<table border=\"1\" class=\"dataframe\">\n",
       "  <thead>\n",
       "    <tr style=\"text-align: right;\">\n",
       "      <th></th>\n",
       "      <th>Age</th>\n",
       "      <th>Sex</th>\n",
       "      <th>Chest pain type</th>\n",
       "      <th>BP</th>\n",
       "      <th>Cholesterol</th>\n",
       "      <th>FBS over 120</th>\n",
       "      <th>EKG results</th>\n",
       "      <th>Max HR</th>\n",
       "      <th>Exercise angina</th>\n",
       "      <th>ST depression</th>\n",
       "      <th>Slope of ST</th>\n",
       "      <th>Number of vessels fluro</th>\n",
       "      <th>Thallium</th>\n",
       "      <th>Heart Disease</th>\n",
       "    </tr>\n",
       "  </thead>\n",
       "  <tbody>\n",
       "    <tr>\n",
       "      <th>0</th>\n",
       "      <td>70</td>\n",
       "      <td>1</td>\n",
       "      <td>4</td>\n",
       "      <td>130</td>\n",
       "      <td>322</td>\n",
       "      <td>0</td>\n",
       "      <td>2</td>\n",
       "      <td>109</td>\n",
       "      <td>0</td>\n",
       "      <td>2.4</td>\n",
       "      <td>2</td>\n",
       "      <td>3</td>\n",
       "      <td>3</td>\n",
       "      <td>Presence</td>\n",
       "    </tr>\n",
       "    <tr>\n",
       "      <th>1</th>\n",
       "      <td>67</td>\n",
       "      <td>0</td>\n",
       "      <td>3</td>\n",
       "      <td>115</td>\n",
       "      <td>564</td>\n",
       "      <td>0</td>\n",
       "      <td>2</td>\n",
       "      <td>160</td>\n",
       "      <td>0</td>\n",
       "      <td>1.6</td>\n",
       "      <td>2</td>\n",
       "      <td>0</td>\n",
       "      <td>7</td>\n",
       "      <td>Absence</td>\n",
       "    </tr>\n",
       "    <tr>\n",
       "      <th>2</th>\n",
       "      <td>57</td>\n",
       "      <td>1</td>\n",
       "      <td>2</td>\n",
       "      <td>124</td>\n",
       "      <td>261</td>\n",
       "      <td>0</td>\n",
       "      <td>0</td>\n",
       "      <td>141</td>\n",
       "      <td>0</td>\n",
       "      <td>0.3</td>\n",
       "      <td>1</td>\n",
       "      <td>0</td>\n",
       "      <td>7</td>\n",
       "      <td>Presence</td>\n",
       "    </tr>\n",
       "    <tr>\n",
       "      <th>3</th>\n",
       "      <td>64</td>\n",
       "      <td>1</td>\n",
       "      <td>4</td>\n",
       "      <td>128</td>\n",
       "      <td>263</td>\n",
       "      <td>0</td>\n",
       "      <td>0</td>\n",
       "      <td>105</td>\n",
       "      <td>1</td>\n",
       "      <td>0.2</td>\n",
       "      <td>2</td>\n",
       "      <td>1</td>\n",
       "      <td>7</td>\n",
       "      <td>Absence</td>\n",
       "    </tr>\n",
       "    <tr>\n",
       "      <th>4</th>\n",
       "      <td>74</td>\n",
       "      <td>0</td>\n",
       "      <td>2</td>\n",
       "      <td>120</td>\n",
       "      <td>269</td>\n",
       "      <td>0</td>\n",
       "      <td>2</td>\n",
       "      <td>121</td>\n",
       "      <td>1</td>\n",
       "      <td>0.2</td>\n",
       "      <td>1</td>\n",
       "      <td>1</td>\n",
       "      <td>3</td>\n",
       "      <td>Absence</td>\n",
       "    </tr>\n",
       "  </tbody>\n",
       "</table>\n",
       "</div>"
      ],
      "text/plain": [
       "   Age  Sex  Chest pain type   BP  Cholesterol  FBS over 120  EKG results  \\\n",
       "0   70    1                4  130          322             0            2   \n",
       "1   67    0                3  115          564             0            2   \n",
       "2   57    1                2  124          261             0            0   \n",
       "3   64    1                4  128          263             0            0   \n",
       "4   74    0                2  120          269             0            2   \n",
       "\n",
       "   Max HR  Exercise angina  ST depression  Slope of ST  \\\n",
       "0     109                0            2.4            2   \n",
       "1     160                0            1.6            2   \n",
       "2     141                0            0.3            1   \n",
       "3     105                1            0.2            2   \n",
       "4     121                1            0.2            1   \n",
       "\n",
       "   Number of vessels fluro  Thallium Heart Disease  \n",
       "0                        3         3      Presence  \n",
       "1                        0         7       Absence  \n",
       "2                        0         7      Presence  \n",
       "3                        1         7       Absence  \n",
       "4                        1         3       Absence  "
      ]
     },
     "execution_count": 3,
     "metadata": {},
     "output_type": "execute_result"
    }
   ],
   "source": [
    "df.head()"
   ]
  },
  {
   "cell_type": "markdown",
   "id": "73ba8809",
   "metadata": {},
   "source": [
    "# EDA"
   ]
  },
  {
   "cell_type": "markdown",
   "id": "7d0e9d1c",
   "metadata": {},
   "source": [
    "- 데이터셋 분석"
   ]
  },
  {
   "cell_type": "code",
   "execution_count": 5,
   "id": "1adb045c",
   "metadata": {
    "ExecuteTime": {
     "end_time": "2024-10-26T07:28:48.551657Z",
     "start_time": "2024-10-26T07:28:48.533694Z"
    }
   },
   "outputs": [
    {
     "name": "stdout",
     "output_type": "stream",
     "text": [
      "<class 'pandas.core.frame.DataFrame'>\n",
      "RangeIndex: 270 entries, 0 to 269\n",
      "Data columns (total 14 columns):\n",
      " #   Column                   Non-Null Count  Dtype  \n",
      "---  ------                   --------------  -----  \n",
      " 0   Age                      270 non-null    int64  \n",
      " 1   Sex                      270 non-null    int64  \n",
      " 2   Chest pain type          270 non-null    int64  \n",
      " 3   BP                       270 non-null    int64  \n",
      " 4   Cholesterol              270 non-null    int64  \n",
      " 5   FBS over 120             270 non-null    int64  \n",
      " 6   EKG results              270 non-null    int64  \n",
      " 7   Max HR                   270 non-null    int64  \n",
      " 8   Exercise angina          270 non-null    int64  \n",
      " 9   ST depression            270 non-null    float64\n",
      " 10  Slope of ST              270 non-null    int64  \n",
      " 11  Number of vessels fluro  270 non-null    int64  \n",
      " 12  Thallium                 270 non-null    int64  \n",
      " 13  Heart Disease            270 non-null    object \n",
      "dtypes: float64(1), int64(12), object(1)\n",
      "memory usage: 29.7+ KB\n"
     ]
    }
   ],
   "source": [
    "df.info()"
   ]
  },
  {
   "cell_type": "code",
   "execution_count": 6,
   "id": "bca7b24d",
   "metadata": {
    "ExecuteTime": {
     "end_time": "2024-10-26T07:28:49.681719Z",
     "start_time": "2024-10-26T07:28:49.665822Z"
    }
   },
   "outputs": [
    {
     "data": {
      "text/plain": [
       "Age                         41\n",
       "Sex                          2\n",
       "Chest pain type              4\n",
       "BP                          47\n",
       "Cholesterol                144\n",
       "FBS over 120                 2\n",
       "EKG results                  3\n",
       "Max HR                      90\n",
       "Exercise angina              2\n",
       "ST depression               39\n",
       "Slope of ST                  3\n",
       "Number of vessels fluro      4\n",
       "Thallium                     3\n",
       "Heart Disease                2\n",
       "dtype: int64"
      ]
     },
     "execution_count": 6,
     "metadata": {},
     "output_type": "execute_result"
    }
   ],
   "source": [
    "df.nunique()"
   ]
  },
  {
   "cell_type": "markdown",
   "id": "32d18b37",
   "metadata": {},
   "source": [
    "### 컬럼별 수치형인지 범주형인지?"
   ]
  },
  {
   "cell_type": "code",
   "execution_count": 7,
   "id": "e4428335",
   "metadata": {
    "ExecuteTime": {
     "end_time": "2024-10-26T07:28:52.381200Z",
     "start_time": "2024-10-26T07:28:52.370888Z"
    }
   },
   "outputs": [
    {
     "data": {
      "text/plain": [
       "Index(['Age', 'Sex', 'Chest pain type', 'BP', 'Cholesterol', 'FBS over 120',\n",
       "       'EKG results', 'Max HR', 'Exercise angina', 'ST depression',\n",
       "       'Slope of ST', 'Number of vessels fluro', 'Thallium', 'Heart Disease'],\n",
       "      dtype='object')"
      ]
     },
     "execution_count": 7,
     "metadata": {},
     "output_type": "execute_result"
    }
   ],
   "source": [
    "df.columns"
   ]
  },
  {
   "cell_type": "markdown",
   "id": "9dc5d493",
   "metadata": {},
   "source": [
    "#### 우선 내가 잘 모르겠는 컬럼에 대해서 hist를 찍어보자"
   ]
  },
  {
   "cell_type": "code",
   "execution_count": 8,
   "id": "97e12404",
   "metadata": {
    "ExecuteTime": {
     "end_time": "2024-10-26T07:28:56.442907Z",
     "start_time": "2024-10-26T07:28:56.436358Z"
    }
   },
   "outputs": [],
   "source": [
    "unknown_domain = ['FBS over 120', 'EKG results', 'Max HR', 'Exercise angina', 'ST depression',\n",
    "                 'Slope of ST', 'Number of vessels fluro', 'Thallium']"
   ]
  },
  {
   "cell_type": "code",
   "execution_count": 14,
   "id": "6f7e0cf3",
   "metadata": {
    "ExecuteTime": {
     "end_time": "2024-10-26T07:40:23.311386Z",
     "start_time": "2024-10-26T07:40:21.678528Z"
    }
   },
   "outputs": [
    {
     "data": {
      "image/png": "[encoded data removed]",
      "text/plain": [
       "<Figure size 1600x800 with 9 Axes>"
      ]
     },
     "metadata": {},
     "output_type": "display_data"
    }
   ],
   "source": [
    "df[unknown_domain].hist(figsize=(16, 8))\n",
    "plt.tight_layout()\n",
    "plt.show()"
   ]
  },
  {
   "cell_type": "markdown",
   "id": "18ceb894",
   "metadata": {},
   "source": [
    "- ST depression과 Max HR을 제외한 나머지 컬럼들은 범주형 변수로 판단"
   ]
  },
  {
   "cell_type": "code",
   "execution_count": 15,
   "id": "3a6b7755",
   "metadata": {
    "ExecuteTime": {
     "end_time": "2024-10-26T07:40:23.319005Z",
     "start_time": "2024-10-26T07:40:23.314588Z"
    }
   },
   "outputs": [],
   "source": [
    "unknown_domain.remove('ST depression')\n",
    "unknown_domain.remove('Max HR')"
   ]
  },
  {
   "cell_type": "markdown",
   "id": "12c77b42",
   "metadata": {},
   "source": [
    "- 또한 성별은 범주형 변수로 인지해야함"
   ]
  },
  {
   "cell_type": "code",
   "execution_count": 16,
   "id": "3910f863",
   "metadata": {
    "ExecuteTime": {
     "end_time": "2024-10-26T07:40:23.325566Z",
     "start_time": "2024-10-26T07:40:23.321289Z"
    }
   },
   "outputs": [],
   "source": [
    "unknown_domain.append('Sex')"
   ]
  },
  {
   "cell_type": "code",
   "execution_count": 17,
   "id": "5f04d2c3",
   "metadata": {
    "ExecuteTime": {
     "end_time": "2024-10-26T07:40:24.303388Z",
     "start_time": "2024-10-26T07:40:24.293973Z"
    }
   },
   "outputs": [],
   "source": [
    "num_idx = df.drop(unknown_domain, axis = 1).columns\n",
    "cat_idx = df[unknown_domain].columns"
   ]
  },
  {
   "cell_type": "code",
   "execution_count": 18,
   "id": "b5119a02",
   "metadata": {
    "ExecuteTime": {
     "end_time": "2024-10-26T07:40:25.189296Z",
     "start_time": "2024-10-26T07:40:25.178980Z"
    }
   },
   "outputs": [
    {
     "data": {
      "text/plain": [
       "(Index(['Age', 'Chest pain type', 'BP', 'Cholesterol', 'Max HR',\n",
       "        'ST depression', 'Heart Disease'],\n",
       "       dtype='object'),\n",
       " Index(['FBS over 120', 'EKG results', 'Exercise angina', 'Slope of ST',\n",
       "        'Number of vessels fluro', 'Thallium', 'Sex'],\n",
       "       dtype='object'))"
      ]
     },
     "execution_count": 18,
     "metadata": {},
     "output_type": "execute_result"
    }
   ],
   "source": [
    "num_idx, cat_idx"
   ]
  },
  {
   "cell_type": "code",
   "execution_count": 19,
   "id": "8eafccce",
   "metadata": {
    "ExecuteTime": {
     "end_time": "2024-10-26T07:40:25.689683Z",
     "start_time": "2024-10-26T07:40:25.681479Z"
    }
   },
   "outputs": [],
   "source": [
    "df['Heart Disease'] = df['Heart Disease'].apply(lambda x : 1 if x =='Presence' else 0)"
   ]
  },
  {
   "cell_type": "code",
   "execution_count": 20,
   "id": "9f81e363",
   "metadata": {
    "ExecuteTime": {
     "end_time": "2024-10-26T07:40:26.161532Z",
     "start_time": "2024-10-26T07:40:26.135467Z"
    }
   },
   "outputs": [
    {
     "data": {
      "text/html": [
       "<div>\n",
       "<style scoped>\n",
       "    .dataframe tbody tr th:only-of-type {\n",
       "        vertical-align: middle;\n",
       "    }\n",
       "\n",
       "    .dataframe tbody tr th {\n",
       "        vertical-align: top;\n",
       "    }\n",
       "\n",
       "    .dataframe thead th {\n",
       "        text-align: right;\n",
       "    }\n",
       "</style>\n",
       "<table border=\"1\" class=\"dataframe\">\n",
       "  <thead>\n",
       "    <tr style=\"text-align: right;\">\n",
       "      <th></th>\n",
       "      <th>Age</th>\n",
       "      <th>Sex</th>\n",
       "      <th>Chest pain type</th>\n",
       "      <th>BP</th>\n",
       "      <th>Cholesterol</th>\n",
       "      <th>FBS over 120</th>\n",
       "      <th>EKG results</th>\n",
       "      <th>Max HR</th>\n",
       "      <th>Exercise angina</th>\n",
       "      <th>ST depression</th>\n",
       "      <th>Slope of ST</th>\n",
       "      <th>Number of vessels fluro</th>\n",
       "      <th>Thallium</th>\n",
       "      <th>Heart Disease</th>\n",
       "    </tr>\n",
       "  </thead>\n",
       "  <tbody>\n",
       "    <tr>\n",
       "      <th>0</th>\n",
       "      <td>70</td>\n",
       "      <td>1</td>\n",
       "      <td>4</td>\n",
       "      <td>130</td>\n",
       "      <td>322</td>\n",
       "      <td>0</td>\n",
       "      <td>2</td>\n",
       "      <td>109</td>\n",
       "      <td>0</td>\n",
       "      <td>2.4</td>\n",
       "      <td>2</td>\n",
       "      <td>3</td>\n",
       "      <td>3</td>\n",
       "      <td>1</td>\n",
       "    </tr>\n",
       "    <tr>\n",
       "      <th>1</th>\n",
       "      <td>67</td>\n",
       "      <td>0</td>\n",
       "      <td>3</td>\n",
       "      <td>115</td>\n",
       "      <td>564</td>\n",
       "      <td>0</td>\n",
       "      <td>2</td>\n",
       "      <td>160</td>\n",
       "      <td>0</td>\n",
       "      <td>1.6</td>\n",
       "      <td>2</td>\n",
       "      <td>0</td>\n",
       "      <td>7</td>\n",
       "      <td>0</td>\n",
       "    </tr>\n",
       "    <tr>\n",
       "      <th>2</th>\n",
       "      <td>57</td>\n",
       "      <td>1</td>\n",
       "      <td>2</td>\n",
       "      <td>124</td>\n",
       "      <td>261</td>\n",
       "      <td>0</td>\n",
       "      <td>0</td>\n",
       "      <td>141</td>\n",
       "      <td>0</td>\n",
       "      <td>0.3</td>\n",
       "      <td>1</td>\n",
       "      <td>0</td>\n",
       "      <td>7</td>\n",
       "      <td>1</td>\n",
       "    </tr>\n",
       "    <tr>\n",
       "      <th>3</th>\n",
       "      <td>64</td>\n",
       "      <td>1</td>\n",
       "      <td>4</td>\n",
       "      <td>128</td>\n",
       "      <td>263</td>\n",
       "      <td>0</td>\n",
       "      <td>0</td>\n",
       "      <td>105</td>\n",
       "      <td>1</td>\n",
       "      <td>0.2</td>\n",
       "      <td>2</td>\n",
       "      <td>1</td>\n",
       "      <td>7</td>\n",
       "      <td>0</td>\n",
       "    </tr>\n",
       "    <tr>\n",
       "      <th>4</th>\n",
       "      <td>74</td>\n",
       "      <td>0</td>\n",
       "      <td>2</td>\n",
       "      <td>120</td>\n",
       "      <td>269</td>\n",
       "      <td>0</td>\n",
       "      <td>2</td>\n",
       "      <td>121</td>\n",
       "      <td>1</td>\n",
       "      <td>0.2</td>\n",
       "      <td>1</td>\n",
       "      <td>1</td>\n",
       "      <td>3</td>\n",
       "      <td>0</td>\n",
       "    </tr>\n",
       "  </tbody>\n",
       "</table>\n",
       "</div>"
      ],
      "text/plain": [
       "   Age  Sex  Chest pain type   BP  Cholesterol  FBS over 120  EKG results  \\\n",
       "0   70    1                4  130          322             0            2   \n",
       "1   67    0                3  115          564             0            2   \n",
       "2   57    1                2  124          261             0            0   \n",
       "3   64    1                4  128          263             0            0   \n",
       "4   74    0                2  120          269             0            2   \n",
       "\n",
       "   Max HR  Exercise angina  ST depression  Slope of ST  \\\n",
       "0     109                0            2.4            2   \n",
       "1     160                0            1.6            2   \n",
       "2     141                0            0.3            1   \n",
       "3     105                1            0.2            2   \n",
       "4     121                1            0.2            1   \n",
       "\n",
       "   Number of vessels fluro  Thallium  Heart Disease  \n",
       "0                        3         3              1  \n",
       "1                        0         7              0  \n",
       "2                        0         7              1  \n",
       "3                        1         7              0  \n",
       "4                        1         3              0  "
      ]
     },
     "execution_count": 20,
     "metadata": {},
     "output_type": "execute_result"
    }
   ],
   "source": [
    "df.head()"
   ]
  },
  {
   "cell_type": "markdown",
   "id": "b7d37420",
   "metadata": {},
   "source": [
    "### 수치형 변수에 대한 상관관계 분석"
   ]
  },
  {
   "cell_type": "code",
   "execution_count": 24,
   "id": "861dba79",
   "metadata": {
    "ExecuteTime": {
     "end_time": "2024-10-26T07:41:07.496590Z",
     "start_time": "2024-10-26T07:41:07.084162Z"
    }
   },
   "outputs": [
    {
     "name": "stdout",
     "output_type": "stream",
     "text": [
      "Heart Disease      1.000000\n",
      "ST depression      0.417967\n",
      "Chest pain type    0.417436\n",
      "Age                0.212322\n",
      "BP                 0.155383\n",
      "Cholesterol        0.118021\n",
      "Max HR            -0.418514\n",
      "Name: Heart Disease, dtype: float64\n"
     ]
    },
    {
     "data": {
      "text/plain": [
       "<Axes: >"
      ]
     },
     "execution_count": 24,
     "metadata": {},
     "output_type": "execute_result"
    },
    {
     "data": {
      "image/png": "[encoded data removed]",
      "text/plain": [
       "<Figure size 1600x800 with 2 Axes>"
      ]
     },
     "metadata": {},
     "output_type": "display_data"
    }
   ],
   "source": [
    "f, ax = plt.subplots(figsize=(16, 8))\n",
    "\n",
    "cmap = sns.diverging_palette(230, 20, as_cmap=True)\n",
    "corr = df[num_idx].corr()\n",
    "mask = np.triu(np.ones_like(corr, dtype=bool))\n",
    "print(corr['Heart Disease'].sort_values(ascending=False))\n",
    "sns.heatmap(corr, mask = mask, cmap=cmap, vmax=.3, linewidths=.5, square=True)\n"
   ]
  },
  {
   "cell_type": "markdown",
   "id": "d8abaa00",
   "metadata": {},
   "source": [
    "### 범주형 변수에 대한 Insight"
   ]
  },
  {
   "cell_type": "code",
   "execution_count": 25,
   "id": "258ee030",
   "metadata": {
    "ExecuteTime": {
     "end_time": "2024-10-26T07:41:42.835530Z",
     "start_time": "2024-10-26T07:41:40.669060Z"
    },
    "scrolled": false
   },
   "outputs": [
    {
     "data": {
      "image/png": "[encoded data removed]",
      "text/plain": [
       "<Figure size 640x480 with 1 Axes>"
      ]
     },
     "metadata": {},
     "output_type": "display_data"
    },
    {
     "data": {
      "image/png": "[encoded data removed]",
      "text/plain": [
       "<Figure size 640x480 with 1 Axes>"
      ]
     },
     "metadata": {},
     "output_type": "display_data"
    },
    {
     "data": {
      "image/png": "[encoded data removed]",
      "text/plain": [
       "<Figure size 640x480 with 1 Axes>"
      ]
     },
     "metadata": {},
     "output_type": "display_data"
    },
    {
     "data": {
      "image/png": "[encoded data removed]",
      "text/plain": [
       "<Figure size 640x480 with 1 Axes>"
      ]
     },
     "metadata": {},
     "output_type": "display_data"
    },
    {
     "data": {
      "image/png": "[encoded data removed]",
      "text/plain": [
       "<Figure size 640x480 with 1 Axes>"
      ]
     },
     "metadata": {},
     "output_type": "display_data"
    },
    {
     "data": {
      "image/png": "[encoded data removed]",
      "text/plain": [
       "<Figure size 640x480 with 1 Axes>"
      ]
     },
     "metadata": {},
     "output_type": "display_data"
    },
    {
     "data": {
      "image/png": "[encoded data removed]",
      "text/plain": [
       "<Figure size 640x480 with 1 Axes>"
      ]
     },
     "metadata": {},
     "output_type": "display_data"
    }
   ],
   "source": [
    "for i in cat_idx:\n",
    "    sns.histplot(data=df, x=i, hue='Heart Disease',multiple=\"stack\",palette=\"Set2\")\n",
    "    plt.show()"
   ]
  },
  {
   "cell_type": "code",
   "execution_count": 26,
   "id": "c11d0f56",
   "metadata": {
    "ExecuteTime": {
     "end_time": "2024-10-26T07:41:51.602459Z",
     "start_time": "2024-10-26T07:41:51.594099Z"
    },
    "scrolled": true
   },
   "outputs": [],
   "source": [
    "# 범주별 심장 질환 퍼센트를 알아보면?\n",
    "\n",
    "# for i in cat_idx:\n",
    "#     data_count = df.groupby([i, 'Heart Disease']).size().reset_index(name='count')\n",
    "#     data_ratio = data_count.groupby(i).apply(lambda x: x.assign(ratio=x['count'] / x['count'].sum())).reset_index(drop=True)\n",
    "#     data_ratio = data_ratio[data_ratio['Heart Disease'] == 1]\n",
    "#     print(data_ratio)"
   ]
  },
  {
   "cell_type": "markdown",
   "id": "4e4f06c9",
   "metadata": {},
   "source": [
    "- 대략적으로 모든 범주형 변수별 영향이 있는 것으로 판단"
   ]
  },
  {
   "cell_type": "code",
   "execution_count": 30,
   "id": "45be8989",
   "metadata": {
    "ExecuteTime": {
     "end_time": "2024-10-26T08:10:22.992341Z",
     "start_time": "2024-10-26T08:10:22.985330Z"
    }
   },
   "outputs": [],
   "source": [
    "from sklearn.preprocessing import OneHotEncoder, StandardScaler\n",
    "from sklearn.compose import ColumnTransformer"
   ]
  },
  {
   "cell_type": "code",
   "execution_count": 31,
   "id": "4944581b",
   "metadata": {
    "ExecuteTime": {
     "end_time": "2024-10-26T08:10:23.592603Z",
     "start_time": "2024-10-26T08:10:23.581482Z"
    }
   },
   "outputs": [
    {
     "data": {
      "text/plain": [
       "Index(['FBS over 120', 'EKG results', 'Exercise angina', 'Slope of ST',\n",
       "       'Number of vessels fluro', 'Thallium', 'Sex'],\n",
       "      dtype='object')"
      ]
     },
     "execution_count": 31,
     "metadata": {},
     "output_type": "execute_result"
    }
   ],
   "source": [
    "cat_idx"
   ]
  },
  {
   "cell_type": "code",
   "execution_count": 32,
   "id": "88bca009",
   "metadata": {
    "ExecuteTime": {
     "end_time": "2024-10-26T08:10:24.041926Z",
     "start_time": "2024-10-26T08:10:24.034795Z"
    }
   },
   "outputs": [],
   "source": [
    "num_idx = num_idx.drop(['Heart Disease'])"
   ]
  },
  {
   "cell_type": "code",
   "execution_count": 33,
   "id": "307503b6",
   "metadata": {
    "ExecuteTime": {
     "end_time": "2024-10-26T08:10:24.567444Z",
     "start_time": "2024-10-26T08:10:24.559860Z"
    }
   },
   "outputs": [],
   "source": [
    "t = [('cat', OneHotEncoder(handle_unknown=\"ignore\"), cat_idx), ('num', StandardScaler(), num_idx)]\n",
    "col_transform = ColumnTransformer(transformers=t)"
   ]
  },
  {
   "cell_type": "code",
   "execution_count": 34,
   "id": "bb89f48b",
   "metadata": {
    "ExecuteTime": {
     "end_time": "2024-10-26T08:10:24.622387Z",
     "start_time": "2024-10-26T08:10:24.614066Z"
    }
   },
   "outputs": [],
   "source": [
    "X = df.drop(['Heart Disease'], axis = 1)\n",
    "y = df['Heart Disease']"
   ]
  },
  {
   "cell_type": "code",
   "execution_count": 35,
   "id": "70dfb5fa",
   "metadata": {
    "ExecuteTime": {
     "end_time": "2024-10-26T08:10:25.111695Z",
     "start_time": "2024-10-26T08:10:25.083869Z"
    }
   },
   "outputs": [],
   "source": [
    "X_std = col_transform.fit_transform(X)"
   ]
  },
  {
   "cell_type": "code",
   "execution_count": 36,
   "id": "ec22d5d3",
   "metadata": {
    "ExecuteTime": {
     "end_time": "2024-10-26T08:10:25.307127Z",
     "start_time": "2024-10-26T08:10:25.295807Z"
    }
   },
   "outputs": [
    {
     "data": {
      "text/plain": [
       "array([[ 1.        ,  0.        ,  0.        , ...,  1.40221232,\n",
       "        -1.75920811,  1.18101235],\n",
       "       [ 1.        ,  0.        ,  0.        , ...,  6.0930045 ,\n",
       "         0.44640927,  0.48115318],\n",
       "       [ 1.        ,  0.        ,  1.        , ...,  0.21982255,\n",
       "        -0.37529132, -0.65611797],\n",
       "       ...,\n",
       "       [ 1.        ,  0.        ,  0.        , ...,  0.85947603,\n",
       "         0.14367747,  0.21870599],\n",
       "       [ 1.        ,  0.        ,  1.        , ..., -1.11763472,\n",
       "        -0.07255953, -0.56863558],\n",
       "       [ 1.        ,  0.        ,  0.        , ...,  0.70440852,\n",
       "        -1.80245551,  0.39367078]])"
      ]
     },
     "execution_count": 36,
     "metadata": {},
     "output_type": "execute_result"
    }
   ],
   "source": [
    "X_std"
   ]
  },
  {
   "cell_type": "code",
   "execution_count": 37,
   "id": "7201e58c",
   "metadata": {
    "ExecuteTime": {
     "end_time": "2024-10-26T08:10:25.631117Z",
     "start_time": "2024-10-26T08:10:25.621455Z"
    }
   },
   "outputs": [
    {
     "data": {
      "text/plain": [
       "((270, 25), (270,))"
      ]
     },
     "execution_count": 37,
     "metadata": {},
     "output_type": "execute_result"
    }
   ],
   "source": [
    "X_std.shape, y.shape"
   ]
  },
  {
   "cell_type": "code",
   "execution_count": 38,
   "id": "87ff8154",
   "metadata": {
    "ExecuteTime": {
     "end_time": "2024-10-26T08:10:26.138513Z",
     "start_time": "2024-10-26T08:10:26.132900Z"
    }
   },
   "outputs": [],
   "source": [
    "from sklearn.model_selection import train_test_split"
   ]
  },
  {
   "cell_type": "code",
   "execution_count": 39,
   "id": "ee4de88a",
   "metadata": {
    "ExecuteTime": {
     "end_time": "2024-10-26T08:10:26.187102Z",
     "start_time": "2024-10-26T08:10:26.177021Z"
    }
   },
   "outputs": [],
   "source": [
    "X_train, X_test, y_train, y_test = train_test_split(X_std, y, test_size=0.2, random_state=42)"
   ]
  },
  {
   "cell_type": "code",
   "execution_count": 40,
   "id": "467c8399",
   "metadata": {
    "ExecuteTime": {
     "end_time": "2024-10-26T08:10:26.300936Z",
     "start_time": "2024-10-26T08:10:26.291217Z"
    }
   },
   "outputs": [
    {
     "data": {
      "text/plain": [
       "((216, 25), (54, 25))"
      ]
     },
     "execution_count": 40,
     "metadata": {},
     "output_type": "execute_result"
    }
   ],
   "source": [
    "X_train.shape, X_test.shape"
   ]
  },
  {
   "cell_type": "code",
   "execution_count": 41,
   "id": "46669b98",
   "metadata": {
    "ExecuteTime": {
     "end_time": "2024-10-26T08:10:26.688257Z",
     "start_time": "2024-10-26T08:10:26.563055Z"
    }
   },
   "outputs": [],
   "source": [
    "from lightgbm import LGBMClassifier\n",
    "from sklearn.tree import DecisionTreeClassifier\n",
    "from xgboost import XGBClassifier\n",
    "from sklearn.ensemble import RandomForestClassifier\n",
    "from sklearn.ensemble import GradientBoostingClassifier"
   ]
  },
  {
   "cell_type": "code",
   "execution_count": 42,
   "id": "b591a602",
   "metadata": {
    "ExecuteTime": {
     "end_time": "2024-10-26T08:10:26.818192Z",
     "start_time": "2024-10-26T08:10:26.811208Z"
    }
   },
   "outputs": [],
   "source": [
    "from sklearn.model_selection import GridSearchCV"
   ]
  },
  {
   "cell_type": "code",
   "execution_count": 43,
   "id": "f9ba8dc8",
   "metadata": {
    "ExecuteTime": {
     "end_time": "2024-10-26T08:10:27.196120Z",
     "start_time": "2024-10-26T08:10:27.180815Z"
    }
   },
   "outputs": [],
   "source": [
    "models = {\n",
    "    \n",
    "#     'LGBMClassifier' : (LGBMClassifier(), {\n",
    "#         'n_estimators' : [50, 100],\n",
    "#         'max_depth' : [2, 20],\n",
    "#         'min_samples_split' : [5, 100]\n",
    "#     }),\n",
    "    \n",
    "    'DecisionTree' : (DecisionTreeClassifier(), {\n",
    "#         'n_estimators' : [50, 100],\n",
    "        'max_depth' : [2, 20],\n",
    "        'min_samples_split' : [5, 100]\n",
    "        \n",
    "    }),\n",
    "    \n",
    "    'XGBClassifier' : (XGBClassifier(), {\n",
    "        'n_estimators' : [50, 100],\n",
    "        'max_depth' : [2, 20],\n",
    "#         'min_samples_split' : [5, 100]\n",
    "        \n",
    "    }),\n",
    "    \n",
    "    'RandomForestClassifier' : (RandomForestClassifier(), {\n",
    "        'n_estimators' : [50, 100],\n",
    "        'max_depth' : [2, 20],\n",
    "        'min_samples_split' : [5, 100]\n",
    "        \n",
    "    }),\n",
    "    \n",
    "    'GradientBoostingClassifier' : (GradientBoostingClassifier(), {\n",
    "        'n_estimators' : [50, 100],\n",
    "        'max_depth' : [2, 20],\n",
    "        'min_samples_split' : [5, 100]\n",
    "        \n",
    "    })\n",
    "    \n",
    "}"
   ]
  },
  {
   "cell_type": "code",
   "execution_count": 45,
   "id": "4010592d",
   "metadata": {
    "ExecuteTime": {
     "end_time": "2024-10-26T08:10:28.028374Z",
     "start_time": "2024-10-26T08:10:28.021086Z"
    }
   },
   "outputs": [],
   "source": [
    "from sklearn.metrics import f1_score\n",
    "from sklearn.metrics import confusion_matrix\n",
    "from sklearn.metrics import accuracy_score"
   ]
  },
  {
   "cell_type": "code",
   "execution_count": 46,
   "id": "4ea1641a",
   "metadata": {
    "ExecuteTime": {
     "end_time": "2024-10-26T08:14:09.788662Z",
     "start_time": "2024-10-26T08:10:28.303975Z"
    },
    "scrolled": false
   },
   "outputs": [
    {
     "name": "stdout",
     "output_type": "stream",
     "text": [
      "Start DecisionTree Training!\n",
      "Best Parameters: {'max_depth': 2, 'min_samples_split': 5}\n",
      "F1 score: 0.4864864864864865\n",
      "\n",
      "Accuracy: 0.6481481481481481\n",
      "\n",
      "Confusion Matrix: [[26  7]\n",
      " [12  9]]\n",
      "\n",
      "Start XGBClassifier Training!\n",
      "Best Parameters: {'max_depth': 2, 'n_estimators': 50}\n",
      "F1 score: 0.7777777777777778\n",
      "\n",
      "Accuracy: 0.8518518518518519\n",
      "\n",
      "Confusion Matrix: [[32  1]\n",
      " [ 7 14]]\n",
      "\n",
      "Start RandomForestClassifier Training!\n",
      "Best Parameters: {'max_depth': 2, 'min_samples_split': 5, 'n_estimators': 50}\n",
      "F1 score: 0.7567567567567568\n",
      "\n",
      "Accuracy: 0.8333333333333334\n",
      "\n",
      "Confusion Matrix: [[31  2]\n",
      " [ 7 14]]\n",
      "\n",
      "Start GradientBoostingClassifier Training!\n",
      "Best Parameters: {'max_depth': 2, 'min_samples_split': 100, 'n_estimators': 50}\n",
      "F1 score: 0.7804878048780488\n",
      "\n",
      "Accuracy: 0.8333333333333334\n",
      "\n",
      "Confusion Matrix: [[29  4]\n",
      " [ 5 16]]\n",
      "\n"
     ]
    }
   ],
   "source": [
    "model_results = []\n",
    "\n",
    "# 모델별로 튜닝 및 적합\n",
    "for model_name, (model, param_grid) in models.items():\n",
    "    print(f\"Start {model_name} Training!\")\n",
    "    search = GridSearchCV(model, param_grid, scoring='accuracy',  n_jobs=-1)\n",
    "    search.fit(X_train, y_train)\n",
    "\n",
    "    # 최적의 모델과 하이퍼파라미터 출력\n",
    "    best_model =search.best_estimator_\n",
    "    best_params =search.best_params_\n",
    "    print(f\"Best Parameters: {best_params}\")\n",
    "\n",
    "    # 테스트 데이터에 대한 예측 및 평가\n",
    "    y_pred = best_model.predict(X_test)\n",
    "    f1 = f1_score(y_test, y_pred)\n",
    "    accuracy = accuracy_score(y_test, y_pred)\n",
    "    c_m = confusion_matrix(y_test, y_pred)\n",
    "    print(f\"F1 score: {f1}\\n\")\n",
    "    print(f\"Accuracy: {accuracy}\\n\")\n",
    "    print(f\"Confusion Matrix: {c_m}\\n\")\n",
    "\n",
    "\n",
    "    # 모델 이름과 accuracy 결과 저장\n",
    "    model_results.append((model_name, best_model, accuracy, f1))"
   ]
  },
  {
   "cell_type": "code",
   "execution_count": 61,
   "id": "97bb017d",
   "metadata": {
    "ExecuteTime": {
     "end_time": "2024-10-26T08:17:55.573232Z",
     "start_time": "2024-10-26T08:17:55.562421Z"
    }
   },
   "outputs": [
    {
     "data": {
      "text/plain": [
       "('DecisionTree',\n",
       " DecisionTreeClassifier(max_depth=2, min_samples_split=5),\n",
       " 0.6481481481481481,\n",
       " 0.4864864864864865)"
      ]
     },
     "execution_count": 61,
     "metadata": {},
     "output_type": "execute_result"
    }
   ],
   "source": [
    "model_results[0]"
   ]
  },
  {
   "cell_type": "code",
   "execution_count": 62,
   "id": "cf224ec9",
   "metadata": {
    "ExecuteTime": {
     "end_time": "2024-10-26T08:18:27.971680Z",
     "start_time": "2024-10-26T08:18:27.963816Z"
    }
   },
   "outputs": [],
   "source": [
    "voting_models = []\n",
    "\n",
    "for i in model_results:\n",
    "    voting_models.append((i[0], i[1]))\n",
    "    "
   ]
  },
  {
   "cell_type": "code",
   "execution_count": 69,
   "id": "bdf45022",
   "metadata": {
    "ExecuteTime": {
     "end_time": "2024-10-26T08:19:22.457674Z",
     "start_time": "2024-10-26T08:19:22.451270Z"
    }
   },
   "outputs": [],
   "source": [
    "# DecisionTree의 성능이 너무 낮아서 제거\n",
    "del voting_models[0]"
   ]
  },
  {
   "cell_type": "code",
   "execution_count": 70,
   "id": "efd9b62d",
   "metadata": {
    "ExecuteTime": {
     "end_time": "2024-10-26T08:19:23.342261Z",
     "start_time": "2024-10-26T08:19:23.334733Z"
    }
   },
   "outputs": [],
   "source": [
    "from sklearn.ensemble import VotingClassifier\n",
    "\n",
    "vc = VotingClassifier(voting_models, voting='soft')\n",
    "voting_classifier = VotingClassifier(estimators=voting_models)"
   ]
  },
  {
   "cell_type": "code",
   "execution_count": 71,
   "id": "43a61a25",
   "metadata": {
    "ExecuteTime": {
     "end_time": "2024-10-26T08:19:23.772875Z",
     "start_time": "2024-10-26T08:19:23.503471Z"
    }
   },
   "outputs": [
    {
     "data": {
      "text/html": [
       "<style>#sk-container-id-2 {\n",
       "  /* Definition of color scheme common for light and dark mode */\n",
       "  --sklearn-color-text: black;\n",
       "  --sklearn-color-line: gray;\n",
       "  /* Definition of color scheme for unfitted estimators */\n",
       "  --sklearn-color-unfitted-level-0: #fff5e6;\n",
       "  --sklearn-color-unfitted-level-1: #f6e4d2;\n",
       "  --sklearn-color-unfitted-level-2: #ffe0b3;\n",
       "  --sklearn-color-unfitted-level-3: chocolate;\n",
       "  /* Definition of color scheme for fitted estimators */\n",
       "  --sklearn-color-fitted-level-0: #f0f8ff;\n",
       "  --sklearn-color-fitted-level-1: #d4ebff;\n",
       "  --sklearn-color-fitted-level-2: #b3dbfd;\n",
       "  --sklearn-color-fitted-level-3: cornflowerblue;\n",
       "\n",
       "  /* Specific color for light theme */\n",
       "  --sklearn-color-text-on-default-background: var(--sg-text-color, var(--theme-code-foreground, var(--jp-content-font-color1, black)));\n",
       "  --sklearn-color-background: var(--sg-background-color, var(--theme-background, var(--jp-layout-color0, white)));\n",
       "  --sklearn-color-border-box: var(--sg-text-color, var(--theme-code-foreground, var(--jp-content-font-color1, black)));\n",
       "  --sklearn-color-icon: #696969;\n",
       "\n",
       "  @media (prefers-color-scheme: dark) {\n",
       "    /* Redefinition of color scheme for dark theme */\n",
       "    --sklearn-color-text-on-default-background: var(--sg-text-color, var(--theme-code-foreground, var(--jp-content-font-color1, white)));\n",
       "    --sklearn-color-background: var(--sg-background-color, var(--theme-background, var(--jp-layout-color0, #111)));\n",
       "    --sklearn-color-border-box: var(--sg-text-color, var(--theme-code-foreground, var(--jp-content-font-color1, white)));\n",
       "    --sklearn-color-icon: #878787;\n",
       "  }\n",
       "}\n",
       "\n",
       "#sk-container-id-2 {\n",
       "  color: var(--sklearn-color-text);\n",
       "}\n",
       "\n",
       "#sk-container-id-2 pre {\n",
       "  padding: 0;\n",
       "}\n",
       "\n",
       "#sk-container-id-2 input.sk-hidden--visually {\n",
       "  border: 0;\n",
       "  clip: rect(1px 1px 1px 1px);\n",
       "  clip: rect(1px, 1px, 1px, 1px);\n",
       "  height: 1px;\n",
       "  margin: -1px;\n",
       "  overflow: hidden;\n",
       "  padding: 0;\n",
       "  position: absolute;\n",
       "  width: 1px;\n",
       "}\n",
       "\n",
       "#sk-container-id-2 div.sk-dashed-wrapped {\n",
       "  border: 1px dashed var(--sklearn-color-line);\n",
       "  margin: 0 0.4em 0.5em 0.4em;\n",
       "  box-sizing: border-box;\n",
       "  padding-bottom: 0.4em;\n",
       "  background-color: var(--sklearn-color-background);\n",
       "}\n",
       "\n",
       "#sk-container-id-2 div.sk-container {\n",
       "  /* jupyter's `normalize.less` sets `[hidden] { display: none; }`\n",
       "     but bootstrap.min.css set `[hidden] { display: none !important; }`\n",
       "     so we also need the `!important` here to be able to override the\n",
       "     default hidden behavior on the sphinx rendered scikit-learn.org.\n",
       "     See: https://github.com/scikit-learn/scikit-learn/issues/21755 */\n",
       "  display: inline-block !important;\n",
       "  position: relative;\n",
       "}\n",
       "\n",
       "#sk-container-id-2 div.sk-text-repr-fallback {\n",
       "  display: none;\n",
       "}\n",
       "\n",
       "div.sk-parallel-item,\n",
       "div.sk-serial,\n",
       "div.sk-item {\n",
       "  /* draw centered vertical line to link estimators */\n",
       "  background-image: linear-gradient(var(--sklearn-color-text-on-default-background), var(--sklearn-color-text-on-default-background));\n",
       "  background-size: 2px 100%;\n",
       "  background-repeat: no-repeat;\n",
       "  background-position: center center;\n",
       "}\n",
       "\n",
       "/* Parallel-specific style estimator block */\n",
       "\n",
       "#sk-container-id-2 div.sk-parallel-item::after {\n",
       "  content: \"\";\n",
       "  width: 100%;\n",
       "  border-bottom: 2px solid var(--sklearn-color-text-on-default-background);\n",
       "  flex-grow: 1;\n",
       "}\n",
       "\n",
       "#sk-container-id-2 div.sk-parallel {\n",
       "  display: flex;\n",
       "  align-items: stretch;\n",
       "  justify-content: center;\n",
       "  background-color: var(--sklearn-color-background);\n",
       "  position: relative;\n",
       "}\n",
       "\n",
       "#sk-container-id-2 div.sk-parallel-item {\n",
       "  display: flex;\n",
       "  flex-direction: column;\n",
       "}\n",
       "\n",
       "#sk-container-id-2 div.sk-parallel-item:first-child::after {\n",
       "  align-self: flex-end;\n",
       "  width: 50%;\n",
       "}\n",
       "\n",
       "#sk-container-id-2 div.sk-parallel-item:last-child::after {\n",
       "  align-self: flex-start;\n",
       "  width: 50%;\n",
       "}\n",
       "\n",
       "#sk-container-id-2 div.sk-parallel-item:only-child::after {\n",
       "  width: 0;\n",
       "}\n",
       "\n",
       "/* Serial-specific style estimator block */\n",
       "\n",
       "#sk-container-id-2 div.sk-serial {\n",
       "  display: flex;\n",
       "  flex-direction: column;\n",
       "  align-items: center;\n",
       "  background-color: var(--sklearn-color-background);\n",
       "  padding-right: 1em;\n",
       "  padding-left: 1em;\n",
       "}\n",
       "\n",
       "\n",
       "/* Toggleable style: style used for estimator/Pipeline/ColumnTransformer box that is\n",
       "clickable and can be expanded/collapsed.\n",
       "- Pipeline and ColumnTransformer use this feature and define the default style\n",
       "- Estimators will overwrite some part of the style using the `sk-estimator` class\n",
       "*/\n",
       "\n",
       "/* Pipeline and ColumnTransformer style (default) */\n",
       "\n",
       "#sk-container-id-2 div.sk-toggleable {\n",
       "  /* Default theme specific background. It is overwritten whether we have a\n",
       "  specific estimator or a Pipeline/ColumnTransformer */\n",
       "  background-color: var(--sklearn-color-background);\n",
       "}\n",
       "\n",
       "/* Toggleable label */\n",
       "#sk-container-id-2 label.sk-toggleable__label {\n",
       "  cursor: pointer;\n",
       "  display: block;\n",
       "  width: 100%;\n",
       "  margin-bottom: 0;\n",
       "  padding: 0.5em;\n",
       "  box-sizing: border-box;\n",
       "  text-align: center;\n",
       "}\n",
       "\n",
       "#sk-container-id-2 label.sk-toggleable__label-arrow:before {\n",
       "  /* Arrow on the left of the label */\n",
       "  content: \"▸\";\n",
       "  float: left;\n",
       "  margin-right: 0.25em;\n",
       "  color: var(--sklearn-color-icon);\n",
       "}\n",
       "\n",
       "#sk-container-id-2 label.sk-toggleable__label-arrow:hover:before {\n",
       "  color: var(--sklearn-color-text);\n",
       "}\n",
       "\n",
       "/* Toggleable content - dropdown */\n",
       "\n",
       "#sk-container-id-2 div.sk-toggleable__content {\n",
       "  max-height: 0;\n",
       "  max-width: 0;\n",
       "  overflow: hidden;\n",
       "  text-align: left;\n",
       "  /* unfitted */\n",
       "  background-color: var(--sklearn-color-unfitted-level-0);\n",
       "}\n",
       "\n",
       "#sk-container-id-2 div.sk-toggleable__content.fitted {\n",
       "  /* fitted */\n",
       "  background-color: var(--sklearn-color-fitted-level-0);\n",
       "}\n",
       "\n",
       "#sk-container-id-2 div.sk-toggleable__content pre {\n",
       "  margin: 0.2em;\n",
       "  border-radius: 0.25em;\n",
       "  color: var(--sklearn-color-text);\n",
       "  /* unfitted */\n",
       "  background-color: var(--sklearn-color-unfitted-level-0);\n",
       "}\n",
       "\n",
       "#sk-container-id-2 div.sk-toggleable__content.fitted pre {\n",
       "  /* unfitted */\n",
       "  background-color: var(--sklearn-color-fitted-level-0);\n",
       "}\n",
       "\n",
       "#sk-container-id-2 input.sk-toggleable__control:checked~div.sk-toggleable__content {\n",
       "  /* Expand drop-down */\n",
       "  max-height: 200px;\n",
       "  max-width: 100%;\n",
       "  overflow: auto;\n",
       "}\n",
       "\n",
       "#sk-container-id-2 input.sk-toggleable__control:checked~label.sk-toggleable__label-arrow:before {\n",
       "  content: \"▾\";\n",
       "}\n",
       "\n",
       "/* Pipeline/ColumnTransformer-specific style */\n",
       "\n",
       "#sk-container-id-2 div.sk-label input.sk-toggleable__control:checked~label.sk-toggleable__label {\n",
       "  color: var(--sklearn-color-text);\n",
       "  background-color: var(--sklearn-color-unfitted-level-2);\n",
       "}\n",
       "\n",
       "#sk-container-id-2 div.sk-label.fitted input.sk-toggleable__control:checked~label.sk-toggleable__label {\n",
       "  background-color: var(--sklearn-color-fitted-level-2);\n",
       "}\n",
       "\n",
       "/* Estimator-specific style */\n",
       "\n",
       "/* Colorize estimator box */\n",
       "#sk-container-id-2 div.sk-estimator input.sk-toggleable__control:checked~label.sk-toggleable__label {\n",
       "  /* unfitted */\n",
       "  background-color: var(--sklearn-color-unfitted-level-2);\n",
       "}\n",
       "\n",
       "#sk-container-id-2 div.sk-estimator.fitted input.sk-toggleable__control:checked~label.sk-toggleable__label {\n",
       "  /* fitted */\n",
       "  background-color: var(--sklearn-color-fitted-level-2);\n",
       "}\n",
       "\n",
       "#sk-container-id-2 div.sk-label label.sk-toggleable__label,\n",
       "#sk-container-id-2 div.sk-label label {\n",
       "  /* The background is the default theme color */\n",
       "  color: var(--sklearn-color-text-on-default-background);\n",
       "}\n",
       "\n",
       "/* On hover, darken the color of the background */\n",
       "#sk-container-id-2 div.sk-label:hover label.sk-toggleable__label {\n",
       "  color: var(--sklearn-color-text);\n",
       "  background-color: var(--sklearn-color-unfitted-level-2);\n",
       "}\n",
       "\n",
       "/* Label box, darken color on hover, fitted */\n",
       "#sk-container-id-2 div.sk-label.fitted:hover label.sk-toggleable__label.fitted {\n",
       "  color: var(--sklearn-color-text);\n",
       "  background-color: var(--sklearn-color-fitted-level-2);\n",
       "}\n",
       "\n",
       "/* Estimator label */\n",
       "\n",
       "#sk-container-id-2 div.sk-label label {\n",
       "  font-family: monospace;\n",
       "  font-weight: bold;\n",
       "  display: inline-block;\n",
       "  line-height: 1.2em;\n",
       "}\n",
       "\n",
       "#sk-container-id-2 div.sk-label-container {\n",
       "  text-align: center;\n",
       "}\n",
       "\n",
       "/* Estimator-specific */\n",
       "#sk-container-id-2 div.sk-estimator {\n",
       "  font-family: monospace;\n",
       "  border: 1px dotted var(--sklearn-color-border-box);\n",
       "  border-radius: 0.25em;\n",
       "  box-sizing: border-box;\n",
       "  margin-bottom: 0.5em;\n",
       "  /* unfitted */\n",
       "  background-color: var(--sklearn-color-unfitted-level-0);\n",
       "}\n",
       "\n",
       "#sk-container-id-2 div.sk-estimator.fitted {\n",
       "  /* fitted */\n",
       "  background-color: var(--sklearn-color-fitted-level-0);\n",
       "}\n",
       "\n",
       "/* on hover */\n",
       "#sk-container-id-2 div.sk-estimator:hover {\n",
       "  /* unfitted */\n",
       "  background-color: var(--sklearn-color-unfitted-level-2);\n",
       "}\n",
       "\n",
       "#sk-container-id-2 div.sk-estimator.fitted:hover {\n",
       "  /* fitted */\n",
       "  background-color: var(--sklearn-color-fitted-level-2);\n",
       "}\n",
       "\n",
       "/* Specification for estimator info (e.g. \"i\" and \"?\") */\n",
       "\n",
       "/* Common style for \"i\" and \"?\" */\n",
       "\n",
       ".sk-estimator-doc-link,\n",
       "a:link.sk-estimator-doc-link,\n",
       "a:visited.sk-estimator-doc-link {\n",
       "  float: right;\n",
       "  font-size: smaller;\n",
       "  line-height: 1em;\n",
       "  font-family: monospace;\n",
       "  background-color: var(--sklearn-color-background);\n",
       "  border-radius: 1em;\n",
       "  height: 1em;\n",
       "  width: 1em;\n",
       "  text-decoration: none !important;\n",
       "  margin-left: 1ex;\n",
       "  /* unfitted */\n",
       "  border: var(--sklearn-color-unfitted-level-1) 1pt solid;\n",
       "  color: var(--sklearn-color-unfitted-level-1);\n",
       "}\n",
       "\n",
       ".sk-estimator-doc-link.fitted,\n",
       "a:link.sk-estimator-doc-link.fitted,\n",
       "a:visited.sk-estimator-doc-link.fitted {\n",
       "  /* fitted */\n",
       "  border: var(--sklearn-color-fitted-level-1) 1pt solid;\n",
       "  color: var(--sklearn-color-fitted-level-1);\n",
       "}\n",
       "\n",
       "/* On hover */\n",
       "div.sk-estimator:hover .sk-estimator-doc-link:hover,\n",
       ".sk-estimator-doc-link:hover,\n",
       "div.sk-label-container:hover .sk-estimator-doc-link:hover,\n",
       ".sk-estimator-doc-link:hover {\n",
       "  /* unfitted */\n",
       "  background-color: var(--sklearn-color-unfitted-level-3);\n",
       "  color: var(--sklearn-color-background);\n",
       "  text-decoration: none;\n",
       "}\n",
       "\n",
       "div.sk-estimator.fitted:hover .sk-estimator-doc-link.fitted:hover,\n",
       ".sk-estimator-doc-link.fitted:hover,\n",
       "div.sk-label-container:hover .sk-estimator-doc-link.fitted:hover,\n",
       ".sk-estimator-doc-link.fitted:hover {\n",
       "  /* fitted */\n",
       "  background-color: var(--sklearn-color-fitted-level-3);\n",
       "  color: var(--sklearn-color-background);\n",
       "  text-decoration: none;\n",
       "}\n",
       "\n",
       "/* Span, style for the box shown on hovering the info icon */\n",
       ".sk-estimator-doc-link span {\n",
       "  display: none;\n",
       "  z-index: 9999;\n",
       "  position: relative;\n",
       "  font-weight: normal;\n",
       "  right: .2ex;\n",
       "  padding: .5ex;\n",
       "  margin: .5ex;\n",
       "  width: min-content;\n",
       "  min-width: 20ex;\n",
       "  max-width: 50ex;\n",
       "  color: var(--sklearn-color-text);\n",
       "  box-shadow: 2pt 2pt 4pt #999;\n",
       "  /* unfitted */\n",
       "  background: var(--sklearn-color-unfitted-level-0);\n",
       "  border: .5pt solid var(--sklearn-color-unfitted-level-3);\n",
       "}\n",
       "\n",
       ".sk-estimator-doc-link.fitted span {\n",
       "  /* fitted */\n",
       "  background: var(--sklearn-color-fitted-level-0);\n",
       "  border: var(--sklearn-color-fitted-level-3);\n",
       "}\n",
       "\n",
       ".sk-estimator-doc-link:hover span {\n",
       "  display: block;\n",
       "}\n",
       "\n",
       "/* \"?\"-specific style due to the `<a>` HTML tag */\n",
       "\n",
       "#sk-container-id-2 a.estimator_doc_link {\n",
       "  float: right;\n",
       "  font-size: 1rem;\n",
       "  line-height: 1em;\n",
       "  font-family: monospace;\n",
       "  background-color: var(--sklearn-color-background);\n",
       "  border-radius: 1rem;\n",
       "  height: 1rem;\n",
       "  width: 1rem;\n",
       "  text-decoration: none;\n",
       "  /* unfitted */\n",
       "  color: var(--sklearn-color-unfitted-level-1);\n",
       "  border: var(--sklearn-color-unfitted-level-1) 1pt solid;\n",
       "}\n",
       "\n",
       "#sk-container-id-2 a.estimator_doc_link.fitted {\n",
       "  /* fitted */\n",
       "  border: var(--sklearn-color-fitted-level-1) 1pt solid;\n",
       "  color: var(--sklearn-color-fitted-level-1);\n",
       "}\n",
       "\n",
       "/* On hover */\n",
       "#sk-container-id-2 a.estimator_doc_link:hover {\n",
       "  /* unfitted */\n",
       "  background-color: var(--sklearn-color-unfitted-level-3);\n",
       "  color: var(--sklearn-color-background);\n",
       "  text-decoration: none;\n",
       "}\n",
       "\n",
       "#sk-container-id-2 a.estimator_doc_link.fitted:hover {\n",
       "  /* fitted */\n",
       "  background-color: var(--sklearn-color-fitted-level-3);\n",
       "}\n",
       "</style><div id=\"sk-container-id-2\" class=\"sk-top-container\"><div class=\"sk-text-repr-fallback\"><pre>VotingClassifier(estimators=[(&#x27;XGBClassifier&#x27;,\n",
       "                              XGBClassifier(base_score=None, booster=None,\n",
       "                                            callbacks=None,\n",
       "                                            colsample_bylevel=None,\n",
       "                                            colsample_bynode=None,\n",
       "                                            colsample_bytree=None, device=None,\n",
       "                                            early_stopping_rounds=None,\n",
       "                                            enable_categorical=False,\n",
       "                                            eval_metric=None,\n",
       "                                            feature_types=None, gamma=None,\n",
       "                                            grow_policy=None,\n",
       "                                            importance_type=None,\n",
       "                                            interaction_constraints=None,\n",
       "                                            l...\n",
       "                                            min_child_weight=None, missing=nan,\n",
       "                                            monotone_constraints=None,\n",
       "                                            multi_strategy=None,\n",
       "                                            n_estimators=50, n_jobs=None,\n",
       "                                            num_parallel_tree=None,\n",
       "                                            random_state=None, ...)),\n",
       "                             (&#x27;RandomForestClassifier&#x27;,\n",
       "                              RandomForestClassifier(max_depth=2,\n",
       "                                                     min_samples_split=5,\n",
       "                                                     n_estimators=50)),\n",
       "                             (&#x27;GradientBoostingClassifier&#x27;,\n",
       "                              GradientBoostingClassifier(max_depth=2,\n",
       "                                                         min_samples_split=100,\n",
       "                                                         n_estimators=50))])</pre><b>In a Jupyter environment, please rerun this cell to show the HTML representation or trust the notebook. <br />On GitHub, the HTML representation is unable to render, please try loading this page with nbviewer.org.</b></div><div class=\"sk-container\" hidden><div class=\"sk-item sk-dashed-wrapped\"><div class=\"sk-label-container\"><div class=\"sk-label fitted sk-toggleable\"><input class=\"sk-toggleable__control sk-hidden--visually\" id=\"sk-estimator-id-6\" type=\"checkbox\" ><label for=\"sk-estimator-id-6\" class=\"sk-toggleable__label fitted sk-toggleable__label-arrow fitted\">&nbsp;&nbsp;VotingClassifier<a class=\"sk-estimator-doc-link fitted\" rel=\"noreferrer\" target=\"_blank\" href=\"https://scikit-learn.org/1.5/modules/generated/sklearn.ensemble.VotingClassifier.html\">?<span>Documentation for VotingClassifier</span></a><span class=\"sk-estimator-doc-link fitted\">i<span>Fitted</span></span></label><div class=\"sk-toggleable__content fitted\"><pre>VotingClassifier(estimators=[(&#x27;XGBClassifier&#x27;,\n",
       "                              XGBClassifier(base_score=None, booster=None,\n",
       "                                            callbacks=None,\n",
       "                                            colsample_bylevel=None,\n",
       "                                            colsample_bynode=None,\n",
       "                                            colsample_bytree=None, device=None,\n",
       "                                            early_stopping_rounds=None,\n",
       "                                            enable_categorical=False,\n",
       "                                            eval_metric=None,\n",
       "                                            feature_types=None, gamma=None,\n",
       "                                            grow_policy=None,\n",
       "                                            importance_type=None,\n",
       "                                            interaction_constraints=None,\n",
       "                                            l...\n",
       "                                            min_child_weight=None, missing=nan,\n",
       "                                            monotone_constraints=None,\n",
       "                                            multi_strategy=None,\n",
       "                                            n_estimators=50, n_jobs=None,\n",
       "                                            num_parallel_tree=None,\n",
       "                                            random_state=None, ...)),\n",
       "                             (&#x27;RandomForestClassifier&#x27;,\n",
       "                              RandomForestClassifier(max_depth=2,\n",
       "                                                     min_samples_split=5,\n",
       "                                                     n_estimators=50)),\n",
       "                             (&#x27;GradientBoostingClassifier&#x27;,\n",
       "                              GradientBoostingClassifier(max_depth=2,\n",
       "                                                         min_samples_split=100,\n",
       "                                                         n_estimators=50))])</pre></div> </div></div><div class=\"sk-parallel\"><div class=\"sk-parallel-item\"><div class=\"sk-item\"><div class=\"sk-label-container\"><div class=\"sk-label fitted sk-toggleable\"><label>XGBClassifier</label></div></div><div class=\"sk-serial\"><div class=\"sk-item\"><div class=\"sk-estimator fitted sk-toggleable\"><input class=\"sk-toggleable__control sk-hidden--visually\" id=\"sk-estimator-id-7\" type=\"checkbox\" ><label for=\"sk-estimator-id-7\" class=\"sk-toggleable__label fitted sk-toggleable__label-arrow fitted\">XGBClassifier</label><div class=\"sk-toggleable__content fitted\"><pre>XGBClassifier(base_score=None, booster=None, callbacks=None,\n",
       "              colsample_bylevel=None, colsample_bynode=None,\n",
       "              colsample_bytree=None, device=None, early_stopping_rounds=None,\n",
       "              enable_categorical=False, eval_metric=None, feature_types=None,\n",
       "              gamma=None, grow_policy=None, importance_type=None,\n",
       "              interaction_constraints=None, learning_rate=None, max_bin=None,\n",
       "              max_cat_threshold=None, max_cat_to_onehot=None,\n",
       "              max_delta_step=None, max_depth=2, max_leaves=None,\n",
       "              min_child_weight=None, missing=nan, monotone_constraints=None,\n",
       "              multi_strategy=None, n_estimators=50, n_jobs=None,\n",
       "              num_parallel_tree=None, random_state=None, ...)</pre></div> </div></div></div></div></div><div class=\"sk-parallel-item\"><div class=\"sk-item\"><div class=\"sk-label-container\"><div class=\"sk-label fitted sk-toggleable\"><label>RandomForestClassifier</label></div></div><div class=\"sk-serial\"><div class=\"sk-item\"><div class=\"sk-estimator fitted sk-toggleable\"><input class=\"sk-toggleable__control sk-hidden--visually\" id=\"sk-estimator-id-8\" type=\"checkbox\" ><label for=\"sk-estimator-id-8\" class=\"sk-toggleable__label fitted sk-toggleable__label-arrow fitted\">&nbsp;RandomForestClassifier<a class=\"sk-estimator-doc-link fitted\" rel=\"noreferrer\" target=\"_blank\" href=\"https://scikit-learn.org/1.5/modules/generated/sklearn.ensemble.RandomForestClassifier.html\">?<span>Documentation for RandomForestClassifier</span></a></label><div class=\"sk-toggleable__content fitted\"><pre>RandomForestClassifier(max_depth=2, min_samples_split=5, n_estimators=50)</pre></div> </div></div></div></div></div><div class=\"sk-parallel-item\"><div class=\"sk-item\"><div class=\"sk-label-container\"><div class=\"sk-label fitted sk-toggleable\"><label>GradientBoostingClassifier</label></div></div><div class=\"sk-serial\"><div class=\"sk-item\"><div class=\"sk-estimator fitted sk-toggleable\"><input class=\"sk-toggleable__control sk-hidden--visually\" id=\"sk-estimator-id-9\" type=\"checkbox\" ><label for=\"sk-estimator-id-9\" class=\"sk-toggleable__label fitted sk-toggleable__label-arrow fitted\">&nbsp;GradientBoostingClassifier<a class=\"sk-estimator-doc-link fitted\" rel=\"noreferrer\" target=\"_blank\" href=\"https://scikit-learn.org/1.5/modules/generated/sklearn.ensemble.GradientBoostingClassifier.html\">?<span>Documentation for GradientBoostingClassifier</span></a></label><div class=\"sk-toggleable__content fitted\"><pre>GradientBoostingClassifier(max_depth=2, min_samples_split=100, n_estimators=50)</pre></div> </div></div></div></div></div></div></div></div></div>"
      ],
      "text/plain": [
       "VotingClassifier(estimators=[('XGBClassifier',\n",
       "                              XGBClassifier(base_score=None, booster=None,\n",
       "                                            callbacks=None,\n",
       "                                            colsample_bylevel=None,\n",
       "                                            colsample_bynode=None,\n",
       "                                            colsample_bytree=None, device=None,\n",
       "                                            early_stopping_rounds=None,\n",
       "                                            enable_categorical=False,\n",
       "                                            eval_metric=None,\n",
       "                                            feature_types=None, gamma=None,\n",
       "                                            grow_policy=None,\n",
       "                                            importance_type=None,\n",
       "                                            interaction_constraints=None,\n",
       "                                            l...\n",
       "                                            min_child_weight=None, missing=nan,\n",
       "                                            monotone_constraints=None,\n",
       "                                            multi_strategy=None,\n",
       "                                            n_estimators=50, n_jobs=None,\n",
       "                                            num_parallel_tree=None,\n",
       "                                            random_state=None, ...)),\n",
       "                             ('RandomForestClassifier',\n",
       "                              RandomForestClassifier(max_depth=2,\n",
       "                                                     min_samples_split=5,\n",
       "                                                     n_estimators=50)),\n",
       "                             ('GradientBoostingClassifier',\n",
       "                              GradientBoostingClassifier(max_depth=2,\n",
       "                                                         min_samples_split=100,\n",
       "                                                         n_estimators=50))])"
      ]
     },
     "execution_count": 71,
     "metadata": {},
     "output_type": "execute_result"
    }
   ],
   "source": [
    "voting_classifier.fit(X_train, y_train)"
   ]
  },
  {
   "cell_type": "code",
   "execution_count": 72,
   "id": "cb2064ff",
   "metadata": {
    "ExecuteTime": {
     "end_time": "2024-10-26T08:19:24.406035Z",
     "start_time": "2024-10-26T08:19:24.386087Z"
    }
   },
   "outputs": [],
   "source": [
    "y_pred = voting_classifier.predict(X_test)"
   ]
  },
  {
   "cell_type": "code",
   "execution_count": 73,
   "id": "9dbe53e2",
   "metadata": {
    "ExecuteTime": {
     "end_time": "2024-10-26T08:19:24.929328Z",
     "start_time": "2024-10-26T08:19:24.909510Z"
    }
   },
   "outputs": [
    {
     "name": "stdout",
     "output_type": "stream",
     "text": [
      "F1 score: 0.8108108108108109\n",
      "\n",
      "Accuracy: 0.8333333333333334\n",
      "\n",
      "Confusion Matrix: [[32  1]\n",
      " [ 6 15]]\n",
      "\n"
     ]
    }
   ],
   "source": [
    "f1 = f1_score(y_test, y_pred)\n",
    "c_m = confusion_matrix(y_test, y_pred)\n",
    "print(f\"F1 score: {f1}\\n\")\n",
    "print(f\"Accuracy: {accuracy}\\n\")\n",
    "print(f\"Confusion Matrix: {c_m}\\n\")"
   ]
  },
  {
   "cell_type": "markdown",
   "id": "b328b533",
   "metadata": {},
   "source": [
    "# 결과\n",
    "\n",
    "- XGBoostClassifier의 단독 성능이 더 좋다."
   ]
  },
  {
   "cell_type": "code",
   "execution_count": null,
   "id": "77bcc317",
   "metadata": {},
   "outputs": [],
   "source": []
  }
 ],
 "metadata": {
  "kernelspec": {
   "display_name": "data_analysys",
   "language": "python",
   "name": "data_analysys"
  },
  "language_info": {
   "codemirror_mode": {
    "name": "ipython",
    "version": 3
   },
   "file_extension": ".py",
   "mimetype": "text/x-python",
   "name": "python",
   "nbconvert_exporter": "python",
   "pygments_lexer": "ipython3",
   "version": "3.10.15"
  },
  "toc": {
   "base_numbering": 1,
   "nav_menu": {},
   "number_sections": false,
   "sideBar": true,
   "skip_h1_title": false,
   "title_cell": "Table of Contents",
   "title_sidebar": "Contents",
   "toc_cell": false,
   "toc_position": {},
   "toc_section_display": true,
   "toc_window_display": false
  }
 },
 "nbformat": 4,
 "nbformat_minor": 5
}
