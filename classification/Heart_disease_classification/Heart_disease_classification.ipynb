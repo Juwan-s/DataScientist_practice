{
 "cells": [
  {
   "cell_type": "code",
   "execution_count": 33,
   "id": "339596c4",
   "metadata": {
    "ExecuteTime": {
     "end_time": "2024-10-25T07:45:06.375292Z",
     "start_time": "2024-10-25T07:45:06.367957Z"
    }
   },
   "outputs": [],
   "source": [
    "import pandas as pd\n",
    "import matplotlib.pyplot as plt\n",
    "import seaborn as sns\n",
    "import numpy as np"
   ]
  },
  {
   "cell_type": "code",
   "execution_count": 34,
   "id": "7f2b87bb",
   "metadata": {
    "ExecuteTime": {
     "end_time": "2024-10-25T07:45:06.494866Z",
     "start_time": "2024-10-25T07:45:06.482458Z"
    }
   },
   "outputs": [],
   "source": [
    "df = pd.read_csv('../../dataset/Heart_Disease_Prediction.csv')"
   ]
  },
  {
   "cell_type": "code",
   "execution_count": 35,
   "id": "79a2ce88",
   "metadata": {
    "ExecuteTime": {
     "end_time": "2024-10-25T07:45:06.617558Z",
     "start_time": "2024-10-25T07:45:06.591445Z"
    }
   },
   "outputs": [
    {
     "data": {
      "text/html": [
       "<div>\n",
       "<style scoped>\n",
       "    .dataframe tbody tr th:only-of-type {\n",
       "        vertical-align: middle;\n",
       "    }\n",
       "\n",
       "    .dataframe tbody tr th {\n",
       "        vertical-align: top;\n",
       "    }\n",
       "\n",
       "    .dataframe thead th {\n",
       "        text-align: right;\n",
       "    }\n",
       "</style>\n",
       "<table border=\"1\" class=\"dataframe\">\n",
       "  <thead>\n",
       "    <tr style=\"text-align: right;\">\n",
       "      <th></th>\n",
       "      <th>Age</th>\n",
       "      <th>Sex</th>\n",
       "      <th>Chest pain type</th>\n",
       "      <th>BP</th>\n",
       "      <th>Cholesterol</th>\n",
       "      <th>FBS over 120</th>\n",
       "      <th>EKG results</th>\n",
       "      <th>Max HR</th>\n",
       "      <th>Exercise angina</th>\n",
       "      <th>ST depression</th>\n",
       "      <th>Slope of ST</th>\n",
       "      <th>Number of vessels fluro</th>\n",
       "      <th>Thallium</th>\n",
       "      <th>Heart Disease</th>\n",
       "    </tr>\n",
       "  </thead>\n",
       "  <tbody>\n",
       "    <tr>\n",
       "      <th>0</th>\n",
       "      <td>70</td>\n",
       "      <td>1</td>\n",
       "      <td>4</td>\n",
       "      <td>130</td>\n",
       "      <td>322</td>\n",
       "      <td>0</td>\n",
       "      <td>2</td>\n",
       "      <td>109</td>\n",
       "      <td>0</td>\n",
       "      <td>2.4</td>\n",
       "      <td>2</td>\n",
       "      <td>3</td>\n",
       "      <td>3</td>\n",
       "      <td>Presence</td>\n",
       "    </tr>\n",
       "    <tr>\n",
       "      <th>1</th>\n",
       "      <td>67</td>\n",
       "      <td>0</td>\n",
       "      <td>3</td>\n",
       "      <td>115</td>\n",
       "      <td>564</td>\n",
       "      <td>0</td>\n",
       "      <td>2</td>\n",
       "      <td>160</td>\n",
       "      <td>0</td>\n",
       "      <td>1.6</td>\n",
       "      <td>2</td>\n",
       "      <td>0</td>\n",
       "      <td>7</td>\n",
       "      <td>Absence</td>\n",
       "    </tr>\n",
       "    <tr>\n",
       "      <th>2</th>\n",
       "      <td>57</td>\n",
       "      <td>1</td>\n",
       "      <td>2</td>\n",
       "      <td>124</td>\n",
       "      <td>261</td>\n",
       "      <td>0</td>\n",
       "      <td>0</td>\n",
       "      <td>141</td>\n",
       "      <td>0</td>\n",
       "      <td>0.3</td>\n",
       "      <td>1</td>\n",
       "      <td>0</td>\n",
       "      <td>7</td>\n",
       "      <td>Presence</td>\n",
       "    </tr>\n",
       "    <tr>\n",
       "      <th>3</th>\n",
       "      <td>64</td>\n",
       "      <td>1</td>\n",
       "      <td>4</td>\n",
       "      <td>128</td>\n",
       "      <td>263</td>\n",
       "      <td>0</td>\n",
       "      <td>0</td>\n",
       "      <td>105</td>\n",
       "      <td>1</td>\n",
       "      <td>0.2</td>\n",
       "      <td>2</td>\n",
       "      <td>1</td>\n",
       "      <td>7</td>\n",
       "      <td>Absence</td>\n",
       "    </tr>\n",
       "    <tr>\n",
       "      <th>4</th>\n",
       "      <td>74</td>\n",
       "      <td>0</td>\n",
       "      <td>2</td>\n",
       "      <td>120</td>\n",
       "      <td>269</td>\n",
       "      <td>0</td>\n",
       "      <td>2</td>\n",
       "      <td>121</td>\n",
       "      <td>1</td>\n",
       "      <td>0.2</td>\n",
       "      <td>1</td>\n",
       "      <td>1</td>\n",
       "      <td>3</td>\n",
       "      <td>Absence</td>\n",
       "    </tr>\n",
       "  </tbody>\n",
       "</table>\n",
       "</div>"
      ],
      "text/plain": [
       "   Age  Sex  Chest pain type   BP  Cholesterol  FBS over 120  EKG results  \\\n",
       "0   70    1                4  130          322             0            2   \n",
       "1   67    0                3  115          564             0            2   \n",
       "2   57    1                2  124          261             0            0   \n",
       "3   64    1                4  128          263             0            0   \n",
       "4   74    0                2  120          269             0            2   \n",
       "\n",
       "   Max HR  Exercise angina  ST depression  Slope of ST  \\\n",
       "0     109                0            2.4            2   \n",
       "1     160                0            1.6            2   \n",
       "2     141                0            0.3            1   \n",
       "3     105                1            0.2            2   \n",
       "4     121                1            0.2            1   \n",
       "\n",
       "   Number of vessels fluro  Thallium Heart Disease  \n",
       "0                        3         3      Presence  \n",
       "1                        0         7       Absence  \n",
       "2                        0         7      Presence  \n",
       "3                        1         7       Absence  \n",
       "4                        1         3       Absence  "
      ]
     },
     "execution_count": 35,
     "metadata": {},
     "output_type": "execute_result"
    }
   ],
   "source": [
    "df.head()"
   ]
  },
  {
   "cell_type": "markdown",
   "id": "73ba8809",
   "metadata": {},
   "source": [
    "# EDA"
   ]
  },
  {
   "cell_type": "code",
   "execution_count": 36,
   "id": "1adb045c",
   "metadata": {
    "ExecuteTime": {
     "end_time": "2024-10-25T07:45:06.810062Z",
     "start_time": "2024-10-25T07:45:06.791029Z"
    }
   },
   "outputs": [
    {
     "name": "stdout",
     "output_type": "stream",
     "text": [
      "<class 'pandas.core.frame.DataFrame'>\n",
      "RangeIndex: 270 entries, 0 to 269\n",
      "Data columns (total 14 columns):\n",
      " #   Column                   Non-Null Count  Dtype  \n",
      "---  ------                   --------------  -----  \n",
      " 0   Age                      270 non-null    int64  \n",
      " 1   Sex                      270 non-null    int64  \n",
      " 2   Chest pain type          270 non-null    int64  \n",
      " 3   BP                       270 non-null    int64  \n",
      " 4   Cholesterol              270 non-null    int64  \n",
      " 5   FBS over 120             270 non-null    int64  \n",
      " 6   EKG results              270 non-null    int64  \n",
      " 7   Max HR                   270 non-null    int64  \n",
      " 8   Exercise angina          270 non-null    int64  \n",
      " 9   ST depression            270 non-null    float64\n",
      " 10  Slope of ST              270 non-null    int64  \n",
      " 11  Number of vessels fluro  270 non-null    int64  \n",
      " 12  Thallium                 270 non-null    int64  \n",
      " 13  Heart Disease            270 non-null    object \n",
      "dtypes: float64(1), int64(12), object(1)\n",
      "memory usage: 29.7+ KB\n"
     ]
    }
   ],
   "source": [
    "df.info()"
   ]
  },
  {
   "cell_type": "code",
   "execution_count": 37,
   "id": "bca7b24d",
   "metadata": {
    "ExecuteTime": {
     "end_time": "2024-10-25T07:45:06.921329Z",
     "start_time": "2024-10-25T07:45:06.905188Z"
    }
   },
   "outputs": [
    {
     "data": {
      "text/plain": [
       "Age                         41\n",
       "Sex                          2\n",
       "Chest pain type              4\n",
       "BP                          47\n",
       "Cholesterol                144\n",
       "FBS over 120                 2\n",
       "EKG results                  3\n",
       "Max HR                      90\n",
       "Exercise angina              2\n",
       "ST depression               39\n",
       "Slope of ST                  3\n",
       "Number of vessels fluro      4\n",
       "Thallium                     3\n",
       "Heart Disease                2\n",
       "dtype: int64"
      ]
     },
     "execution_count": 37,
     "metadata": {},
     "output_type": "execute_result"
    }
   ],
   "source": [
    "df.nunique()"
   ]
  },
  {
   "cell_type": "markdown",
   "id": "32d18b37",
   "metadata": {},
   "source": [
    "### 컬럼별 수치형인지 범주형인지?"
   ]
  },
  {
   "cell_type": "code",
   "execution_count": 38,
   "id": "e4428335",
   "metadata": {
    "ExecuteTime": {
     "end_time": "2024-10-25T07:45:07.126877Z",
     "start_time": "2024-10-25T07:45:07.116105Z"
    }
   },
   "outputs": [
    {
     "data": {
      "text/plain": [
       "Index(['Age', 'Sex', 'Chest pain type', 'BP', 'Cholesterol', 'FBS over 120',\n",
       "       'EKG results', 'Max HR', 'Exercise angina', 'ST depression',\n",
       "       'Slope of ST', 'Number of vessels fluro', 'Thallium', 'Heart Disease'],\n",
       "      dtype='object')"
      ]
     },
     "execution_count": 38,
     "metadata": {},
     "output_type": "execute_result"
    }
   ],
   "source": [
    "df.columns"
   ]
  },
  {
   "cell_type": "markdown",
   "id": "9dc5d493",
   "metadata": {},
   "source": [
    "#### 우선 내가 잘 모르겠는 컬럼에 대해서 hist를 찍어보자"
   ]
  },
  {
   "cell_type": "code",
   "execution_count": 39,
   "id": "97e12404",
   "metadata": {
    "ExecuteTime": {
     "end_time": "2024-10-25T07:45:07.539281Z",
     "start_time": "2024-10-25T07:45:07.532717Z"
    }
   },
   "outputs": [],
   "source": [
    "unknown_domain = ['FBS over 120', 'EKG results', 'Max HR', 'Exercise angina', 'ST depression',\n",
    "                 'Slope of ST', 'Number of vessels fluro', 'Thallium']"
   ]
  },
  {
   "cell_type": "code",
   "execution_count": 40,
   "id": "6f7e0cf3",
   "metadata": {
    "ExecuteTime": {
     "end_time": "2024-10-25T07:45:08.911691Z",
     "start_time": "2024-10-25T07:45:07.792617Z"
    }
   },
   "outputs": [
    {
     "data": {
      "text/plain": [
       "array([[<Axes: title={'center': 'FBS over 120'}>,\n",
       "        <Axes: title={'center': 'EKG results'}>,\n",
       "        <Axes: title={'center': 'Max HR'}>],\n",
       "       [<Axes: title={'center': 'Exercise angina'}>,\n",
       "        <Axes: title={'center': 'ST depression'}>,\n",
       "        <Axes: title={'center': 'Slope of ST'}>],\n",
       "       [<Axes: title={'center': 'Number of vessels fluro'}>,\n",
       "        <Axes: title={'center': 'Thallium'}>, <Axes: >]], dtype=object)"
      ]
     },
     "execution_count": 40,
     "metadata": {},
     "output_type": "execute_result"
    },
    {
     "data": {
      "image/png": "[encoded data removed]",
      "text/plain": [
       "<Figure size 640x480 with 9 Axes>"
      ]
     },
     "metadata": {},
     "output_type": "display_data"
    }
   ],
   "source": [
    "df[unknown_domain].hist()"
   ]
  },
  {
   "cell_type": "markdown",
   "id": "18ceb894",
   "metadata": {},
   "source": [
    "- ST depression과 Max HR을 제외한 나머지 컬럼들은 범주형 변수로 판단"
   ]
  },
  {
   "cell_type": "code",
   "execution_count": 41,
   "id": "3a6b7755",
   "metadata": {
    "ExecuteTime": {
     "end_time": "2024-10-25T07:45:09.320333Z",
     "start_time": "2024-10-25T07:45:09.313693Z"
    }
   },
   "outputs": [],
   "source": [
    "unknown_domain.remove('ST depression')\n",
    "unknown_domain.remove('Max HR')"
   ]
  },
  {
   "cell_type": "markdown",
   "id": "12c77b42",
   "metadata": {},
   "source": [
    "- 또한 성별은 범주형 변수로 인지해야함"
   ]
  },
  {
   "cell_type": "code",
   "execution_count": 42,
   "id": "3910f863",
   "metadata": {
    "ExecuteTime": {
     "end_time": "2024-10-25T07:45:09.992610Z",
     "start_time": "2024-10-25T07:45:09.986540Z"
    }
   },
   "outputs": [],
   "source": [
    "unknown_domain.append('Sex')"
   ]
  },
  {
   "cell_type": "code",
   "execution_count": 44,
   "id": "5f04d2c3",
   "metadata": {
    "ExecuteTime": {
     "end_time": "2024-10-25T07:45:14.437677Z",
     "start_time": "2024-10-25T07:45:14.426589Z"
    }
   },
   "outputs": [],
   "source": [
    "num_idx = df.drop(unknown_domain, axis = 1).columns\n",
    "cat_idx = df[unknown_domain].columns"
   ]
  },
  {
   "cell_type": "code",
   "execution_count": 45,
   "id": "b5119a02",
   "metadata": {
    "ExecuteTime": {
     "end_time": "2024-10-25T07:45:16.741970Z",
     "start_time": "2024-10-25T07:45:16.730565Z"
    }
   },
   "outputs": [
    {
     "data": {
      "text/plain": [
       "(Index(['Age', 'Chest pain type', 'BP', 'Cholesterol', 'Max HR',\n",
       "        'ST depression', 'Heart Disease'],\n",
       "       dtype='object'),\n",
       " Index(['FBS over 120', 'EKG results', 'Exercise angina', 'Slope of ST',\n",
       "        'Number of vessels fluro', 'Thallium', 'Sex'],\n",
       "       dtype='object'))"
      ]
     },
     "execution_count": 45,
     "metadata": {},
     "output_type": "execute_result"
    }
   ],
   "source": [
    "num_idx, cat_idx"
   ]
  },
  {
   "cell_type": "code",
   "execution_count": 46,
   "id": "8eafccce",
   "metadata": {
    "ExecuteTime": {
     "end_time": "2024-10-25T07:45:17.657517Z",
     "start_time": "2024-10-25T07:45:17.648169Z"
    }
   },
   "outputs": [],
   "source": [
    "df['Heart Disease'] = df['Heart Disease'].apply(lambda x : 1 if x =='Presence' else 0)"
   ]
  },
  {
   "cell_type": "code",
   "execution_count": 47,
   "id": "9f81e363",
   "metadata": {
    "ExecuteTime": {
     "end_time": "2024-10-25T07:45:18.118807Z",
     "start_time": "2024-10-25T07:45:18.091965Z"
    }
   },
   "outputs": [
    {
     "data": {
      "text/html": [
       "<div>\n",
       "<style scoped>\n",
       "    .dataframe tbody tr th:only-of-type {\n",
       "        vertical-align: middle;\n",
       "    }\n",
       "\n",
       "    .dataframe tbody tr th {\n",
       "        vertical-align: top;\n",
       "    }\n",
       "\n",
       "    .dataframe thead th {\n",
       "        text-align: right;\n",
       "    }\n",
       "</style>\n",
       "<table border=\"1\" class=\"dataframe\">\n",
       "  <thead>\n",
       "    <tr style=\"text-align: right;\">\n",
       "      <th></th>\n",
       "      <th>Age</th>\n",
       "      <th>Sex</th>\n",
       "      <th>Chest pain type</th>\n",
       "      <th>BP</th>\n",
       "      <th>Cholesterol</th>\n",
       "      <th>FBS over 120</th>\n",
       "      <th>EKG results</th>\n",
       "      <th>Max HR</th>\n",
       "      <th>Exercise angina</th>\n",
       "      <th>ST depression</th>\n",
       "      <th>Slope of ST</th>\n",
       "      <th>Number of vessels fluro</th>\n",
       "      <th>Thallium</th>\n",
       "      <th>Heart Disease</th>\n",
       "    </tr>\n",
       "  </thead>\n",
       "  <tbody>\n",
       "    <tr>\n",
       "      <th>0</th>\n",
       "      <td>70</td>\n",
       "      <td>1</td>\n",
       "      <td>4</td>\n",
       "      <td>130</td>\n",
       "      <td>322</td>\n",
       "      <td>0</td>\n",
       "      <td>2</td>\n",
       "      <td>109</td>\n",
       "      <td>0</td>\n",
       "      <td>2.4</td>\n",
       "      <td>2</td>\n",
       "      <td>3</td>\n",
       "      <td>3</td>\n",
       "      <td>1</td>\n",
       "    </tr>\n",
       "    <tr>\n",
       "      <th>1</th>\n",
       "      <td>67</td>\n",
       "      <td>0</td>\n",
       "      <td>3</td>\n",
       "      <td>115</td>\n",
       "      <td>564</td>\n",
       "      <td>0</td>\n",
       "      <td>2</td>\n",
       "      <td>160</td>\n",
       "      <td>0</td>\n",
       "      <td>1.6</td>\n",
       "      <td>2</td>\n",
       "      <td>0</td>\n",
       "      <td>7</td>\n",
       "      <td>0</td>\n",
       "    </tr>\n",
       "    <tr>\n",
       "      <th>2</th>\n",
       "      <td>57</td>\n",
       "      <td>1</td>\n",
       "      <td>2</td>\n",
       "      <td>124</td>\n",
       "      <td>261</td>\n",
       "      <td>0</td>\n",
       "      <td>0</td>\n",
       "      <td>141</td>\n",
       "      <td>0</td>\n",
       "      <td>0.3</td>\n",
       "      <td>1</td>\n",
       "      <td>0</td>\n",
       "      <td>7</td>\n",
       "      <td>1</td>\n",
       "    </tr>\n",
       "    <tr>\n",
       "      <th>3</th>\n",
       "      <td>64</td>\n",
       "      <td>1</td>\n",
       "      <td>4</td>\n",
       "      <td>128</td>\n",
       "      <td>263</td>\n",
       "      <td>0</td>\n",
       "      <td>0</td>\n",
       "      <td>105</td>\n",
       "      <td>1</td>\n",
       "      <td>0.2</td>\n",
       "      <td>2</td>\n",
       "      <td>1</td>\n",
       "      <td>7</td>\n",
       "      <td>0</td>\n",
       "    </tr>\n",
       "    <tr>\n",
       "      <th>4</th>\n",
       "      <td>74</td>\n",
       "      <td>0</td>\n",
       "      <td>2</td>\n",
       "      <td>120</td>\n",
       "      <td>269</td>\n",
       "      <td>0</td>\n",
       "      <td>2</td>\n",
       "      <td>121</td>\n",
       "      <td>1</td>\n",
       "      <td>0.2</td>\n",
       "      <td>1</td>\n",
       "      <td>1</td>\n",
       "      <td>3</td>\n",
       "      <td>0</td>\n",
       "    </tr>\n",
       "  </tbody>\n",
       "</table>\n",
       "</div>"
      ],
      "text/plain": [
       "   Age  Sex  Chest pain type   BP  Cholesterol  FBS over 120  EKG results  \\\n",
       "0   70    1                4  130          322             0            2   \n",
       "1   67    0                3  115          564             0            2   \n",
       "2   57    1                2  124          261             0            0   \n",
       "3   64    1                4  128          263             0            0   \n",
       "4   74    0                2  120          269             0            2   \n",
       "\n",
       "   Max HR  Exercise angina  ST depression  Slope of ST  \\\n",
       "0     109                0            2.4            2   \n",
       "1     160                0            1.6            2   \n",
       "2     141                0            0.3            1   \n",
       "3     105                1            0.2            2   \n",
       "4     121                1            0.2            1   \n",
       "\n",
       "   Number of vessels fluro  Thallium  Heart Disease  \n",
       "0                        3         3              1  \n",
       "1                        0         7              0  \n",
       "2                        0         7              1  \n",
       "3                        1         7              0  \n",
       "4                        1         3              0  "
      ]
     },
     "execution_count": 47,
     "metadata": {},
     "output_type": "execute_result"
    }
   ],
   "source": [
    "df.head()"
   ]
  },
  {
   "cell_type": "markdown",
   "id": "b7d37420",
   "metadata": {},
   "source": [
    "### 수치형 변수에 대한 상관관계 분석"
   ]
  },
  {
   "cell_type": "code",
   "execution_count": 48,
   "id": "861dba79",
   "metadata": {
    "ExecuteTime": {
     "end_time": "2024-10-25T07:45:19.424418Z",
     "start_time": "2024-10-25T07:45:19.029682Z"
    }
   },
   "outputs": [
    {
     "name": "stdout",
     "output_type": "stream",
     "text": [
      "Heart Disease      1.000000\n",
      "ST depression      0.417967\n",
      "Chest pain type    0.417436\n",
      "Age                0.212322\n",
      "BP                 0.155383\n",
      "Cholesterol        0.118021\n",
      "Max HR            -0.418514\n",
      "Name: Heart Disease, dtype: float64\n"
     ]
    },
    {
     "data": {
      "text/plain": [
       "<Axes: >"
      ]
     },
     "execution_count": 48,
     "metadata": {},
     "output_type": "execute_result"
    },
    {
     "data": {
      "image/png": "[encoded data removed]",
      "text/plain": [
       "<Figure size 1600x800 with 2 Axes>"
      ]
     },
     "metadata": {},
     "output_type": "display_data"
    }
   ],
   "source": [
    "f, ax = plt.subplots(figsize=(16, 8))\n",
    "\n",
    "cmap = sns.diverging_palette(230, 20, as_cmap=True)\n",
    "corr = df[num_idx].corr()\n",
    "mask = np.triu(np.ones_like(corr, dtype=bool))\n",
    "print(corr['Heart Disease'].sort_values(ascending=False))\n",
    "sns.heatmap(corr, mask = mask, cmap=cmap, vmax=.3, linewidths=.5, square=True)\n"
   ]
  },
  {
   "cell_type": "markdown",
   "id": "d8abaa00",
   "metadata": {},
   "source": [
    "### 범주형 변수에 대한 Insight"
   ]
  },
  {
   "cell_type": "code",
   "execution_count": 54,
   "id": "258ee030",
   "metadata": {
    "ExecuteTime": {
     "end_time": "2024-10-25T07:49:08.248497Z",
     "start_time": "2024-10-25T07:49:06.482720Z"
    },
    "scrolled": false
   },
   "outputs": [
    {
     "data": {
      "image/png": "[encoded data removed]",
      "text/plain": [
       "<Figure size 640x480 with 1 Axes>"
      ]
     },
     "metadata": {},
     "output_type": "display_data"
    },
    {
     "data": {
      "image/png": "[encoded data removed]",
      "text/plain": [
       "<Figure size 640x480 with 1 Axes>"
      ]
     },
     "metadata": {},
     "output_type": "display_data"
    },
    {
     "data": {
      "image/png": "[encoded data removed]",
      "text/plain": [
       "<Figure size 640x480 with 1 Axes>"
      ]
     },
     "metadata": {},
     "output_type": "display_data"
    },
    {
     "data": {
      "image/png": "[encoded data removed]",
      "text/plain": [
       "<Figure size 640x480 with 1 Axes>"
      ]
     },
     "metadata": {},
     "output_type": "display_data"
    },
    {
     "data": {
      "image/png": "[encoded data removed]",
      "text/plain": [
       "<Figure size 640x480 with 1 Axes>"
      ]
     },
     "metadata": {},
     "output_type": "display_data"
    },
    {
     "data": {
      "image/png": "[encoded data removed]",
      "text/plain": [
       "<Figure size 640x480 with 1 Axes>"
      ]
     },
     "metadata": {},
     "output_type": "display_data"
    },
    {
     "data": {
      "image/png": "[encoded data removed]",
      "text/plain": [
       "<Figure size 640x480 with 1 Axes>"
      ]
     },
     "metadata": {},
     "output_type": "display_data"
    }
   ],
   "source": [
    "for i in cat_idx:\n",
    "    sns.histplot(data=df, x=i, hue='Heart Disease',multiple=\"stack\",palette=\"Set2\")\n",
    "    plt.show()"
   ]
  },
  {
   "cell_type": "code",
   "execution_count": 69,
   "id": "c11d0f56",
   "metadata": {
    "ExecuteTime": {
     "end_time": "2024-10-25T07:57:15.702031Z",
     "start_time": "2024-10-25T07:57:15.614436Z"
    },
    "scrolled": true
   },
   "outputs": [
    {
     "name": "stdout",
     "output_type": "stream",
     "text": [
      "   FBS over 120  Heart Disease  count     ratio\n",
      "1             0              1    103  0.447826\n",
      "3             1              1     17  0.425000\n",
      "   EKG results  Heart Disease  count     ratio\n",
      "1            0              1     46  0.351145\n",
      "3            1              1      1  0.500000\n",
      "5            2              1     73  0.532847\n",
      "   Exercise angina  Heart Disease  count     ratio\n",
      "1                0              1     54  0.298343\n",
      "3                1              1     66  0.741573\n",
      "   Slope of ST  Heart Disease  count     ratio\n",
      "1            1              1     32  0.246154\n",
      "3            2              1     78  0.639344\n",
      "5            3              1     10  0.555556\n",
      "   Number of vessels fluro  Heart Disease  count     ratio\n",
      "1                        0              1     40  0.250000\n",
      "3                        1              1     38  0.655172\n",
      "5                        2              1     26  0.787879\n",
      "7                        3              1     16  0.842105\n",
      "   Thallium  Heart Disease  count     ratio\n",
      "1         3              1     33  0.217105\n",
      "3         6              1      8  0.571429\n",
      "5         7              1     79  0.759615\n",
      "   Sex  Heart Disease  count     ratio\n",
      "1    0              1     20  0.229885\n",
      "3    1              1    100  0.546448\n"
     ]
    },
    {
     "name": "stderr",
     "output_type": "stream",
     "text": [
      "/tmp/ipykernel_53897/1868245063.py:5: DeprecationWarning: DataFrameGroupBy.apply operated on the grouping columns. This behavior is deprecated, and in a future version of pandas the grouping columns will be excluded from the operation. Either pass `include_groups=False` to exclude the groupings or explicitly select the grouping columns after groupby to silence this warning.\n",
      "  data_ratio = data_count.groupby(i).apply(lambda x: x.assign(ratio=x['count'] / x['count'].sum())).reset_index(drop=True)\n",
      "/tmp/ipykernel_53897/1868245063.py:5: DeprecationWarning: DataFrameGroupBy.apply operated on the grouping columns. This behavior is deprecated, and in a future version of pandas the grouping columns will be excluded from the operation. Either pass `include_groups=False` to exclude the groupings or explicitly select the grouping columns after groupby to silence this warning.\n",
      "  data_ratio = data_count.groupby(i).apply(lambda x: x.assign(ratio=x['count'] / x['count'].sum())).reset_index(drop=True)\n",
      "/tmp/ipykernel_53897/1868245063.py:5: DeprecationWarning: DataFrameGroupBy.apply operated on the grouping columns. This behavior is deprecated, and in a future version of pandas the grouping columns will be excluded from the operation. Either pass `include_groups=False` to exclude the groupings or explicitly select the grouping columns after groupby to silence this warning.\n",
      "  data_ratio = data_count.groupby(i).apply(lambda x: x.assign(ratio=x['count'] / x['count'].sum())).reset_index(drop=True)\n",
      "/tmp/ipykernel_53897/1868245063.py:5: DeprecationWarning: DataFrameGroupBy.apply operated on the grouping columns. This behavior is deprecated, and in a future version of pandas the grouping columns will be excluded from the operation. Either pass `include_groups=False` to exclude the groupings or explicitly select the grouping columns after groupby to silence this warning.\n",
      "  data_ratio = data_count.groupby(i).apply(lambda x: x.assign(ratio=x['count'] / x['count'].sum())).reset_index(drop=True)\n",
      "/tmp/ipykernel_53897/1868245063.py:5: DeprecationWarning: DataFrameGroupBy.apply operated on the grouping columns. This behavior is deprecated, and in a future version of pandas the grouping columns will be excluded from the operation. Either pass `include_groups=False` to exclude the groupings or explicitly select the grouping columns after groupby to silence this warning.\n",
      "  data_ratio = data_count.groupby(i).apply(lambda x: x.assign(ratio=x['count'] / x['count'].sum())).reset_index(drop=True)\n",
      "/tmp/ipykernel_53897/1868245063.py:5: DeprecationWarning: DataFrameGroupBy.apply operated on the grouping columns. This behavior is deprecated, and in a future version of pandas the grouping columns will be excluded from the operation. Either pass `include_groups=False` to exclude the groupings or explicitly select the grouping columns after groupby to silence this warning.\n",
      "  data_ratio = data_count.groupby(i).apply(lambda x: x.assign(ratio=x['count'] / x['count'].sum())).reset_index(drop=True)\n",
      "/tmp/ipykernel_53897/1868245063.py:5: DeprecationWarning: DataFrameGroupBy.apply operated on the grouping columns. This behavior is deprecated, and in a future version of pandas the grouping columns will be excluded from the operation. Either pass `include_groups=False` to exclude the groupings or explicitly select the grouping columns after groupby to silence this warning.\n",
      "  data_ratio = data_count.groupby(i).apply(lambda x: x.assign(ratio=x['count'] / x['count'].sum())).reset_index(drop=True)\n"
     ]
    }
   ],
   "source": [
    "# 범주별 심장 질환 퍼센트를 알아보면?\n",
    "\n",
    "for i in cat_idx:\n",
    "    data_count = df.groupby([i, 'Heart Disease']).size().reset_index(name='count')\n",
    "    data_ratio = data_count.groupby(i).apply(lambda x: x.assign(ratio=x['count'] / x['count'].sum())).reset_index(drop=True)\n",
    "    data_ratio = data_ratio[data_ratio['Heart Disease'] == 1]\n",
    "    print(data_ratio)"
   ]
  },
  {
   "cell_type": "markdown",
   "id": "4e4f06c9",
   "metadata": {},
   "source": [
    "- 대략적으로 모든 범주형 변수별 영향이 있는 것으로 판단"
   ]
  },
  {
   "cell_type": "code",
   "execution_count": 71,
   "id": "45be8989",
   "metadata": {
    "ExecuteTime": {
     "end_time": "2024-10-25T08:07:29.844870Z",
     "start_time": "2024-10-25T08:07:29.838437Z"
    }
   },
   "outputs": [],
   "source": [
    "from sklearn.preprocessing import OneHotEncoder, StandardScaler\n",
    "from sklearn.compose import ColumnTransformer"
   ]
  },
  {
   "cell_type": "code",
   "execution_count": 80,
   "id": "4944581b",
   "metadata": {
    "ExecuteTime": {
     "end_time": "2024-10-25T08:21:29.930535Z",
     "start_time": "2024-10-25T08:21:29.918485Z"
    }
   },
   "outputs": [
    {
     "data": {
      "text/plain": [
       "Index(['FBS over 120', 'EKG results', 'Exercise angina', 'Slope of ST',\n",
       "       'Number of vessels fluro', 'Thallium', 'Sex'],\n",
       "      dtype='object')"
      ]
     },
     "execution_count": 80,
     "metadata": {},
     "output_type": "execute_result"
    }
   ],
   "source": [
    "cat_idx"
   ]
  },
  {
   "cell_type": "code",
   "execution_count": 84,
   "id": "88bca009",
   "metadata": {
    "ExecuteTime": {
     "end_time": "2024-10-25T08:22:21.797676Z",
     "start_time": "2024-10-25T08:22:21.789539Z"
    }
   },
   "outputs": [],
   "source": [
    "num_idx = num_idx.drop(['Heart Disease'])"
   ]
  },
  {
   "cell_type": "code",
   "execution_count": 85,
   "id": "307503b6",
   "metadata": {
    "ExecuteTime": {
     "end_time": "2024-10-25T08:22:23.009139Z",
     "start_time": "2024-10-25T08:22:22.999458Z"
    }
   },
   "outputs": [],
   "source": [
    "t = [('cat', OneHotEncoder(handle_unknown=\"ignore\"), cat_idx), ('num', StandardScaler(), num_idx)]\n",
    "col_transform = ColumnTransformer(transformers=t)"
   ]
  },
  {
   "cell_type": "code",
   "execution_count": 86,
   "id": "bb89f48b",
   "metadata": {
    "ExecuteTime": {
     "end_time": "2024-10-25T08:22:23.333976Z",
     "start_time": "2024-10-25T08:22:23.324285Z"
    }
   },
   "outputs": [],
   "source": [
    "X = df.drop(['Heart Disease'], axis = 1)\n",
    "y = df['Heart Disease']"
   ]
  },
  {
   "cell_type": "code",
   "execution_count": 87,
   "id": "70dfb5fa",
   "metadata": {
    "ExecuteTime": {
     "end_time": "2024-10-25T08:22:23.717589Z",
     "start_time": "2024-10-25T08:22:23.677965Z"
    }
   },
   "outputs": [],
   "source": [
    "X_std = col_transform.fit_transform(X)"
   ]
  },
  {
   "cell_type": "code",
   "execution_count": 88,
   "id": "ec22d5d3",
   "metadata": {
    "ExecuteTime": {
     "end_time": "2024-10-25T08:22:24.295190Z",
     "start_time": "2024-10-25T08:22:24.282251Z"
    }
   },
   "outputs": [
    {
     "data": {
      "text/plain": [
       "array([[ 1.        ,  0.        ,  0.        , ...,  1.40221232,\n",
       "        -1.75920811,  1.18101235],\n",
       "       [ 1.        ,  0.        ,  0.        , ...,  6.0930045 ,\n",
       "         0.44640927,  0.48115318],\n",
       "       [ 1.        ,  0.        ,  1.        , ...,  0.21982255,\n",
       "        -0.37529132, -0.65611797],\n",
       "       ...,\n",
       "       [ 1.        ,  0.        ,  0.        , ...,  0.85947603,\n",
       "         0.14367747,  0.21870599],\n",
       "       [ 1.        ,  0.        ,  1.        , ..., -1.11763472,\n",
       "        -0.07255953, -0.56863558],\n",
       "       [ 1.        ,  0.        ,  0.        , ...,  0.70440852,\n",
       "        -1.80245551,  0.39367078]])"
      ]
     },
     "execution_count": 88,
     "metadata": {},
     "output_type": "execute_result"
    }
   ],
   "source": [
    "X_std"
   ]
  },
  {
   "cell_type": "code",
   "execution_count": 89,
   "id": "7201e58c",
   "metadata": {
    "ExecuteTime": {
     "end_time": "2024-10-25T08:22:33.355703Z",
     "start_time": "2024-10-25T08:22:33.343213Z"
    }
   },
   "outputs": [
    {
     "data": {
      "text/plain": [
       "((270, 25), (270,))"
      ]
     },
     "execution_count": 89,
     "metadata": {},
     "output_type": "execute_result"
    }
   ],
   "source": [
    "X_std.shape, y.shape"
   ]
  },
  {
   "cell_type": "code",
   "execution_count": 90,
   "id": "87ff8154",
   "metadata": {
    "ExecuteTime": {
     "end_time": "2024-10-25T08:22:58.344035Z",
     "start_time": "2024-10-25T08:22:58.337004Z"
    }
   },
   "outputs": [],
   "source": [
    "from sklearn.model_selection import train_test_split"
   ]
  },
  {
   "cell_type": "code",
   "execution_count": 91,
   "id": "ee4de88a",
   "metadata": {
    "ExecuteTime": {
     "end_time": "2024-10-25T08:23:13.854289Z",
     "start_time": "2024-10-25T08:23:13.841929Z"
    }
   },
   "outputs": [],
   "source": [
    "X_train, X_test, y_train, y_test = train_test_split(X_std, y, test_size=0.2, random_state=42)"
   ]
  },
  {
   "cell_type": "code",
   "execution_count": 92,
   "id": "467c8399",
   "metadata": {
    "ExecuteTime": {
     "end_time": "2024-10-25T08:23:20.558139Z",
     "start_time": "2024-10-25T08:23:20.545766Z"
    }
   },
   "outputs": [
    {
     "data": {
      "text/plain": [
       "((216, 25), (54, 25))"
      ]
     },
     "execution_count": 92,
     "metadata": {},
     "output_type": "execute_result"
    }
   ],
   "source": [
    "X_train.shape, X_test.shape"
   ]
  },
  {
   "cell_type": "code",
   "execution_count": 93,
   "id": "46669b98",
   "metadata": {
    "ExecuteTime": {
     "end_time": "2024-10-25T08:25:33.028039Z",
     "start_time": "2024-10-25T08:25:33.018586Z"
    }
   },
   "outputs": [],
   "source": [
    "from lightgbm import LGBMClassifier\n",
    "from sklearn.tree import DecisionTreeClassifier\n",
    "from xgboost import XGBClassifier\n",
    "from sklearn.ensemble import RandomForestClassifier\n",
    "from sklearn.ensemble import GradientBoostingClassifier"
   ]
  },
  {
   "cell_type": "code",
   "execution_count": 94,
   "id": "b591a602",
   "metadata": {
    "ExecuteTime": {
     "end_time": "2024-10-25T08:28:03.305695Z",
     "start_time": "2024-10-25T08:28:03.298370Z"
    }
   },
   "outputs": [],
   "source": [
    "from sklearn.model_selection import GridSearchCV"
   ]
  },
  {
   "cell_type": "code",
   "execution_count": 104,
   "id": "f9ba8dc8",
   "metadata": {
    "ExecuteTime": {
     "end_time": "2024-10-25T08:41:06.663910Z",
     "start_time": "2024-10-25T08:41:06.642897Z"
    }
   },
   "outputs": [],
   "source": [
    "models = {\n",
    "    \n",
    "#     'LGBMClassifier' : (LGBMClassifier(), {\n",
    "#         'n_estimators' : [50, 100],\n",
    "#         'max_depth' : [2, 20],\n",
    "#         'min_samples_split' : [5, 100]\n",
    "#     }),\n",
    "    \n",
    "    'DecisionTree' : (DecisionTreeClassifier(), {\n",
    "#         'n_estimators' : [50, 100],\n",
    "        'max_depth' : [2, 20],\n",
    "        'min_samples_split' : [5, 100]\n",
    "        \n",
    "    }),\n",
    "    \n",
    "    'XGBClassifier' : (XGBClassifier(), {\n",
    "        'n_estimators' : [50, 100],\n",
    "        'max_depth' : [2, 20],\n",
    "#         'min_samples_split' : [5, 100]\n",
    "        \n",
    "    }),\n",
    "    \n",
    "    'RandomForestClassifier' : (RandomForestClassifier(), {\n",
    "        'n_estimators' : [50, 100],\n",
    "        'max_depth' : [2, 20],\n",
    "        'min_samples_split' : [5, 100]\n",
    "        \n",
    "    }),\n",
    "    \n",
    "    'GradientBoostingClassifier' : (GradientBoostingClassifier(), {\n",
    "        'n_estimators' : [50, 100],\n",
    "        'max_depth' : [2, 20],\n",
    "        'min_samples_split' : [5, 100]\n",
    "        \n",
    "    })\n",
    "    \n",
    "}"
   ]
  },
  {
   "cell_type": "code",
   "execution_count": 105,
   "id": "c6ac1836",
   "metadata": {
    "ExecuteTime": {
     "end_time": "2024-10-25T08:41:06.804579Z",
     "start_time": "2024-10-25T08:41:06.798422Z"
    }
   },
   "outputs": [],
   "source": [
    "from sklearn.model_selection import cross_validate"
   ]
  },
  {
   "cell_type": "code",
   "execution_count": 106,
   "id": "4010592d",
   "metadata": {
    "ExecuteTime": {
     "end_time": "2024-10-25T08:41:06.927989Z",
     "start_time": "2024-10-25T08:41:06.921806Z"
    }
   },
   "outputs": [],
   "source": [
    "from sklearn.metrics import f1_score\n",
    "from sklearn.metrics import confusion_matrix\n",
    "from sklearn.metrics import accuracy_score"
   ]
  },
  {
   "cell_type": "code",
   "execution_count": 107,
   "id": "4ea1641a",
   "metadata": {
    "ExecuteTime": {
     "end_time": "2024-10-25T08:44:42.854770Z",
     "start_time": "2024-10-25T08:41:07.086039Z"
    },
    "scrolled": false
   },
   "outputs": [
    {
     "name": "stdout",
     "output_type": "stream",
     "text": [
      "Start DecisionTree Training!\n",
      "Best Parameters: {'max_depth': 2, 'min_samples_split': 5}\n",
      "F1 score: 0.4864864864864865\n",
      "\n",
      "Accuracy: 0.6481481481481481\n",
      "\n",
      "Confusion Matrix: [[26  7]\n",
      " [12  9]]\n",
      "\n",
      "Start XGBClassifier Training!\n",
      "Best Parameters: {'max_depth': 2, 'n_estimators': 50}\n",
      "F1 score: 0.7777777777777778\n",
      "\n",
      "Accuracy: 0.8518518518518519\n",
      "\n",
      "Confusion Matrix: [[32  1]\n",
      " [ 7 14]]\n",
      "\n",
      "Start RandomForestClassifier Training!\n",
      "Best Parameters: {'max_depth': 20, 'min_samples_split': 100, 'n_estimators': 50}\n",
      "F1 score: 0.7428571428571429\n",
      "\n",
      "Accuracy: 0.8333333333333334\n",
      "\n",
      "Confusion Matrix: [[32  1]\n",
      " [ 8 13]]\n",
      "\n",
      "Start GradientBoostingClassifier Training!\n",
      "Best Parameters: {'max_depth': 2, 'min_samples_split': 100, 'n_estimators': 50}\n",
      "F1 score: 0.7804878048780488\n",
      "\n",
      "Accuracy: 0.8333333333333334\n",
      "\n",
      "Confusion Matrix: [[29  4]\n",
      " [ 5 16]]\n",
      "\n"
     ]
    }
   ],
   "source": [
    "model_results = []\n",
    "\n",
    "# 모델별로 튜닝 및 적합\n",
    "for model_name, (model, param_grid) in models.items():\n",
    "    print(f\"Start {model_name} Training!\")\n",
    "    search = GridSearchCV(model, param_grid, scoring='accuracy',  n_jobs=-1)\n",
    "    search.fit(X_train, y_train)\n",
    "\n",
    "    # 최적의 모델과 하이퍼파라미터 출력\n",
    "    best_model =search.best_estimator_\n",
    "    best_params =search.best_params_\n",
    "    print(f\"Best Parameters: {best_params}\")\n",
    "\n",
    "    # 테스트 데이터에 대한 예측 및 평가\n",
    "    y_pred = best_model.predict(X_test)\n",
    "    f1 = f1_score(y_test, y_pred)\n",
    "    accuracy = accuracy_score(y_test, y_pred)\n",
    "    c_m = confusion_matrix(y_test, y_pred)\n",
    "    print(f\"F1 score: {f1}\\n\")\n",
    "    print(f\"Accuracy: {accuracy}\\n\")\n",
    "    print(f\"Confusion Matrix: {c_m}\\n\")\n",
    "\n",
    "\n",
    "    # 모델 이름과 accuracy 결과 저장\n",
    "    model_results.append((model_name, best_model, accuracy, f1))"
   ]
  },
  {
   "cell_type": "code",
   "execution_count": null,
   "id": "254a6c5f",
   "metadata": {},
   "outputs": [],
   "source": []
  }
 ],
 "metadata": {
  "kernelspec": {
   "display_name": "data_analysys",
   "language": "python",
   "name": "data_analysys"
  },
  "language_info": {
   "codemirror_mode": {
    "name": "ipython",
    "version": 3
   },
   "file_extension": ".py",
   "mimetype": "text/x-python",
   "name": "python",
   "nbconvert_exporter": "python",
   "pygments_lexer": "ipython3",
   "version": "3.10.15"
  },
  "toc": {
   "base_numbering": 1,
   "nav_menu": {},
   "number_sections": false,
   "sideBar": true,
   "skip_h1_title": false,
   "title_cell": "Table of Contents",
   "title_sidebar": "Contents",
   "toc_cell": false,
   "toc_position": {},
   "toc_section_display": true,
   "toc_window_display": false
  }
 },
 "nbformat": 4,
 "nbformat_minor": 5
}
